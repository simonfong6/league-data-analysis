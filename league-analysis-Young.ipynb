{
 "cells": [
  {
   "cell_type": "code",
   "execution_count": 1,
   "metadata": {},
   "outputs": [],
   "source": [
    "%load_ext autoreload\n",
    "%autoreload 2"
   ]
  },
  {
   "cell_type": "code",
   "execution_count": 2,
   "metadata": {},
   "outputs": [],
   "source": [
    "import json\n",
    "\n",
    "import matplotlib.pyplot as plt\n",
    "import numpy as np\n",
    "import pandas as pd\n",
    "\n",
    "from tools import *\n",
    "from league_api import *"
   ]
  },
  {
   "cell_type": "code",
   "execution_count": 3,
   "metadata": {},
   "outputs": [
    {
     "data": {
      "text/plain": [
       "['.keep',\n",
       " 'archive.zip',\n",
       " 'challenger_match.csv',\n",
       " 'challenger_match_V2.csv',\n",
       " 'example_participant.json',\n",
       " 'match_data_version1.csv',\n",
       " 'match_data_version1.pickle',\n",
       " 'match_data_version1_subset_1000.pickle',\n",
       " 'match_data_version2.pickle',\n",
       " 'match_loser_data_version1.csv',\n",
       " 'match_loser_data_version1.pickle',\n",
       " 'match_winner_data_version1.csv',\n",
       " 'match_winner_data_version1.pickle']"
      ]
     },
     "execution_count": 3,
     "metadata": {},
     "output_type": "execute_result"
    }
   ],
   "source": [
    "list_data_files()"
   ]
  },
  {
   "cell_type": "code",
   "execution_count": null,
   "metadata": {},
   "outputs": [],
   "source": [
    "create_subset('match_data_version1.pickle', 1000)"
   ]
  },
  {
   "cell_type": "code",
   "execution_count": 4,
   "metadata": {},
   "outputs": [],
   "source": [
    "match_df = load('match_data_version1_subset_1000.pickle')"
   ]
  },
  {
   "cell_type": "code",
   "execution_count": 5,
   "metadata": {},
   "outputs": [
    {
     "name": "stdout",
     "output_type": "stream",
     "text": [
      "<class 'pandas.core.frame.DataFrame'>\n",
      "Int64Index: 1000 entries, 0 to 999\n",
      "Data columns (total 14 columns):\n",
      " #   Column                 Non-Null Count  Dtype  \n",
      "---  ------                 --------------  -----  \n",
      " 0   gameCreation           1000 non-null   float64\n",
      " 1   gameDuration           1000 non-null   float64\n",
      " 2   gameId                 1000 non-null   float64\n",
      " 3   gameMode               1000 non-null   object \n",
      " 4   gameType               1000 non-null   object \n",
      " 5   gameVersion            1000 non-null   object \n",
      " 6   mapId                  1000 non-null   float64\n",
      " 7   participantIdentities  1000 non-null   object \n",
      " 8   participants           1000 non-null   object \n",
      " 9   platformId             1000 non-null   object \n",
      " 10  queueId                1000 non-null   float64\n",
      " 11  seasonId               1000 non-null   float64\n",
      " 12  status.message         0 non-null      object \n",
      " 13  status.status_code     0 non-null      float64\n",
      "dtypes: float64(7), object(7)\n",
      "memory usage: 117.2+ KB\n"
     ]
    }
   ],
   "source": [
    "#pd.show_versions()\n",
    "match_df.info()"
   ]
  },
  {
   "cell_type": "code",
   "execution_count": 6,
   "metadata": {},
   "outputs": [
    {
     "data": {
      "text/html": [
       "<div>\n",
       "<style scoped>\n",
       "    .dataframe tbody tr th:only-of-type {\n",
       "        vertical-align: middle;\n",
       "    }\n",
       "\n",
       "    .dataframe tbody tr th {\n",
       "        vertical-align: top;\n",
       "    }\n",
       "\n",
       "    .dataframe thead th {\n",
       "        text-align: right;\n",
       "    }\n",
       "</style>\n",
       "<table border=\"1\" class=\"dataframe\">\n",
       "  <thead>\n",
       "    <tr style=\"text-align: right;\">\n",
       "      <th></th>\n",
       "      <th>gameCreation</th>\n",
       "      <th>gameDuration</th>\n",
       "      <th>gameId</th>\n",
       "      <th>gameMode</th>\n",
       "      <th>gameType</th>\n",
       "      <th>gameVersion</th>\n",
       "      <th>mapId</th>\n",
       "      <th>participantIdentities</th>\n",
       "      <th>participants</th>\n",
       "      <th>platformId</th>\n",
       "      <th>queueId</th>\n",
       "      <th>seasonId</th>\n",
       "      <th>status.message</th>\n",
       "      <th>status.status_code</th>\n",
       "    </tr>\n",
       "  </thead>\n",
       "  <tbody>\n",
       "    <tr>\n",
       "      <th>0</th>\n",
       "      <td>1.585155e+12</td>\n",
       "      <td>1323.0</td>\n",
       "      <td>4.247263e+09</td>\n",
       "      <td>CLASSIC</td>\n",
       "      <td>MATCHED_GAME</td>\n",
       "      <td>10.6.314.4405</td>\n",
       "      <td>11.0</td>\n",
       "      <td>[{'participantId': 1, 'player': {'platformId':...</td>\n",
       "      <td>[{'participantId': 1, 'teamId': 100, 'champion...</td>\n",
       "      <td>KR</td>\n",
       "      <td>420.0</td>\n",
       "      <td>13.0</td>\n",
       "      <td>NaN</td>\n",
       "      <td>NaN</td>\n",
       "    </tr>\n",
       "    <tr>\n",
       "      <th>1</th>\n",
       "      <td>1.585152e+12</td>\n",
       "      <td>1317.0</td>\n",
       "      <td>4.247156e+09</td>\n",
       "      <td>CLASSIC</td>\n",
       "      <td>MATCHED_GAME</td>\n",
       "      <td>10.6.314.4405</td>\n",
       "      <td>11.0</td>\n",
       "      <td>[{'participantId': 1, 'player': {'platformId':...</td>\n",
       "      <td>[{'participantId': 1, 'teamId': 100, 'champion...</td>\n",
       "      <td>KR</td>\n",
       "      <td>420.0</td>\n",
       "      <td>13.0</td>\n",
       "      <td>NaN</td>\n",
       "      <td>NaN</td>\n",
       "    </tr>\n",
       "    <tr>\n",
       "      <th>2</th>\n",
       "      <td>1.585059e+12</td>\n",
       "      <td>932.0</td>\n",
       "      <td>4.243963e+09</td>\n",
       "      <td>CLASSIC</td>\n",
       "      <td>MATCHED_GAME</td>\n",
       "      <td>10.6.313.8894</td>\n",
       "      <td>11.0</td>\n",
       "      <td>[{'participantId': 1, 'player': {'platformId':...</td>\n",
       "      <td>[{'participantId': 1, 'teamId': 100, 'champion...</td>\n",
       "      <td>KR</td>\n",
       "      <td>420.0</td>\n",
       "      <td>13.0</td>\n",
       "      <td>NaN</td>\n",
       "      <td>NaN</td>\n",
       "    </tr>\n",
       "    <tr>\n",
       "      <th>3</th>\n",
       "      <td>1.584978e+12</td>\n",
       "      <td>2098.0</td>\n",
       "      <td>4.241678e+09</td>\n",
       "      <td>CLASSIC</td>\n",
       "      <td>MATCHED_GAME</td>\n",
       "      <td>10.6.313.8894</td>\n",
       "      <td>11.0</td>\n",
       "      <td>[{'participantId': 1, 'player': {'platformId':...</td>\n",
       "      <td>[{'participantId': 1, 'teamId': 100, 'champion...</td>\n",
       "      <td>KR</td>\n",
       "      <td>420.0</td>\n",
       "      <td>13.0</td>\n",
       "      <td>NaN</td>\n",
       "      <td>NaN</td>\n",
       "    </tr>\n",
       "    <tr>\n",
       "      <th>4</th>\n",
       "      <td>1.584973e+12</td>\n",
       "      <td>2344.0</td>\n",
       "      <td>4.241539e+09</td>\n",
       "      <td>CLASSIC</td>\n",
       "      <td>MATCHED_GAME</td>\n",
       "      <td>10.6.313.8894</td>\n",
       "      <td>11.0</td>\n",
       "      <td>[{'participantId': 1, 'player': {'platformId':...</td>\n",
       "      <td>[{'participantId': 1, 'teamId': 100, 'champion...</td>\n",
       "      <td>KR</td>\n",
       "      <td>420.0</td>\n",
       "      <td>13.0</td>\n",
       "      <td>NaN</td>\n",
       "      <td>NaN</td>\n",
       "    </tr>\n",
       "  </tbody>\n",
       "</table>\n",
       "</div>"
      ],
      "text/plain": [
       "   gameCreation  gameDuration        gameId gameMode      gameType  \\\n",
       "0  1.585155e+12        1323.0  4.247263e+09  CLASSIC  MATCHED_GAME   \n",
       "1  1.585152e+12        1317.0  4.247156e+09  CLASSIC  MATCHED_GAME   \n",
       "2  1.585059e+12         932.0  4.243963e+09  CLASSIC  MATCHED_GAME   \n",
       "3  1.584978e+12        2098.0  4.241678e+09  CLASSIC  MATCHED_GAME   \n",
       "4  1.584973e+12        2344.0  4.241539e+09  CLASSIC  MATCHED_GAME   \n",
       "\n",
       "     gameVersion  mapId                              participantIdentities  \\\n",
       "0  10.6.314.4405   11.0  [{'participantId': 1, 'player': {'platformId':...   \n",
       "1  10.6.314.4405   11.0  [{'participantId': 1, 'player': {'platformId':...   \n",
       "2  10.6.313.8894   11.0  [{'participantId': 1, 'player': {'platformId':...   \n",
       "3  10.6.313.8894   11.0  [{'participantId': 1, 'player': {'platformId':...   \n",
       "4  10.6.313.8894   11.0  [{'participantId': 1, 'player': {'platformId':...   \n",
       "\n",
       "                                        participants platformId  queueId  \\\n",
       "0  [{'participantId': 1, 'teamId': 100, 'champion...         KR    420.0   \n",
       "1  [{'participantId': 1, 'teamId': 100, 'champion...         KR    420.0   \n",
       "2  [{'participantId': 1, 'teamId': 100, 'champion...         KR    420.0   \n",
       "3  [{'participantId': 1, 'teamId': 100, 'champion...         KR    420.0   \n",
       "4  [{'participantId': 1, 'teamId': 100, 'champion...         KR    420.0   \n",
       "\n",
       "   seasonId status.message  status.status_code  \n",
       "0      13.0            NaN                 NaN  \n",
       "1      13.0            NaN                 NaN  \n",
       "2      13.0            NaN                 NaN  \n",
       "3      13.0            NaN                 NaN  \n",
       "4      13.0            NaN                 NaN  "
      ]
     },
     "execution_count": 6,
     "metadata": {},
     "output_type": "execute_result"
    }
   ],
   "source": [
    "match_df.head(5)"
   ]
  },
  {
   "cell_type": "code",
   "execution_count": 12,
   "metadata": {},
   "outputs": [],
   "source": [
    "participants = match_df['participants']"
   ]
  },
  {
   "cell_type": "code",
   "execution_count": 13,
   "metadata": {},
   "outputs": [
    {
     "data": {
      "text/plain": [
       "0      [{'participantId': 1, 'teamId': 100, 'champion...\n",
       "1      [{'participantId': 1, 'teamId': 100, 'champion...\n",
       "2      [{'participantId': 1, 'teamId': 100, 'champion...\n",
       "3      [{'participantId': 1, 'teamId': 100, 'champion...\n",
       "4      [{'participantId': 1, 'teamId': 100, 'champion...\n",
       "                             ...                        \n",
       "995    [{'participantId': 1, 'teamId': 100, 'champion...\n",
       "996    [{'participantId': 1, 'teamId': 100, 'champion...\n",
       "997    [{'participantId': 1, 'teamId': 100, 'champion...\n",
       "998    [{'participantId': 1, 'teamId': 100, 'champion...\n",
       "999    [{'participantId': 1, 'teamId': 100, 'champion...\n",
       "Name: participants, Length: 1000, dtype: object"
      ]
     },
     "execution_count": 13,
     "metadata": {},
     "output_type": "execute_result"
    }
   ],
   "source": [
    "participants"
   ]
  },
  {
   "cell_type": "code",
   "execution_count": 14,
   "metadata": {},
   "outputs": [],
   "source": [
    "p = participants[0]"
   ]
  },
  {
   "cell_type": "code",
   "execution_count": 8,
   "metadata": {},
   "outputs": [],
   "source": [
    "create_example_participant()"
   ]
  },
  {
   "cell_type": "code",
   "execution_count": 9,
   "metadata": {},
   "outputs": [],
   "source": [
    "champion_id_to_champion = create_champion_dict()"
   ]
  },
  {
   "cell_type": "code",
   "execution_count": 10,
   "metadata": {},
   "outputs": [
    {
     "name": "stdout",
     "output_type": "stream",
     "text": [
      "DUO_CARRY MIDDLE 7 Leblanc\n",
      "DUO_SUPPORT MIDDLE 350 Yuumi\n",
      "SOLO TOP 266 Aatrox\n",
      "NONE JUNGLE 517 Sylas\n",
      "SOLO BOTTOM 110 Varus\n",
      "DUO_SUPPORT BOTTOM 235 Senna\n",
      "DUO_CARRY BOTTOM 81 Ezreal\n",
      "SOLO MIDDLE 127 Lissandra\n",
      "SOLO TOP 84 Akali\n",
      "NONE JUNGLE 421 RekSai\n"
     ]
    }
   ],
   "source": [
    "for part in p:\n",
    "    timeline = part['timeline']\n",
    "    champion_id = part['championId']\n",
    "    role = timeline['role']\n",
    "    lane = timeline['lane']\n",
    "    champion_name = champion_id_to_champion[champion_id]['id']\n",
    "    print(role, lane, champion_id, champion_name)"
   ]
  },
  {
   "cell_type": "code",
   "execution_count": 11,
   "metadata": {},
   "outputs": [
    {
     "data": {
      "text/html": [
       "<img src=\"http://ddragon.leagueoflegends.com/cdn/10.22.1/img/item/1001.png\"/>"
      ],
      "text/plain": [
       "<IPython.core.display.HTML object>"
      ]
     },
     "metadata": {},
     "output_type": "display_data"
    }
   ],
   "source": [
    "display_item(1001)"
   ]
  },
  {
   "cell_type": "code",
   "execution_count": 12,
   "metadata": {},
   "outputs": [
    {
     "data": {
      "text/html": [
       "<img src=\"http://ddragon.leagueoflegends.com/cdn/10.22.1/img/champion/Aatrox.png\"/>"
      ],
      "text/plain": [
       "<IPython.core.display.HTML object>"
      ]
     },
     "metadata": {},
     "output_type": "display_data"
    }
   ],
   "source": [
    "display_champion('Aatrox')"
   ]
  },
  {
   "cell_type": "code",
   "execution_count": 9,
   "metadata": {},
   "outputs": [],
   "source": [
    "item_map = create_item_map()"
   ]
  },
  {
   "cell_type": "code",
   "execution_count": 14,
   "metadata": {},
   "outputs": [],
   "source": [
    "game = participants[0]\n",
    "player = game[0]"
   ]
  },
  {
   "cell_type": "code",
   "execution_count": 15,
   "metadata": {},
   "outputs": [],
   "source": [
    "sub_player = filter_participant(player)"
   ]
  },
  {
   "cell_type": "code",
   "execution_count": 16,
   "metadata": {},
   "outputs": [
    {
     "data": {
      "text/plain": [
       "{'participantId': 1,\n",
       " 'teamId': 100,\n",
       " 'championId': 7,\n",
       " 'win': False,\n",
       " 'item0': 2033,\n",
       " 'item1': 3285,\n",
       " 'item2': 3108,\n",
       " 'item3': 1082,\n",
       " 'item4': 3020,\n",
       " 'item5': 2055,\n",
       " 'item6': 3364,\n",
       " 'kills': 3,\n",
       " 'deaths': 6,\n",
       " 'assists': 3,\n",
       " 'role': 'DUO_CARRY',\n",
       " 'lane': 'MIDDLE'}"
      ]
     },
     "execution_count": 16,
     "metadata": {},
     "output_type": "execute_result"
    }
   ],
   "source": [
    "sub_player"
   ]
  },
  {
   "cell_type": "code",
   "execution_count": 17,
   "metadata": {},
   "outputs": [
    {
     "name": "stdout",
     "output_type": "stream",
     "text": [
      "Leblanc\n"
     ]
    },
    {
     "data": {
      "text/html": [
       "<img src=\"http://ddragon.leagueoflegends.com/cdn/10.22.1/img/champion/Leblanc.png\"/>"
      ],
      "text/plain": [
       "<IPython.core.display.HTML object>"
      ]
     },
     "metadata": {},
     "output_type": "display_data"
    }
   ],
   "source": [
    "champion_id = sub_player['championId']\n",
    "champion_name = champion_id_to_champion[champion_id]['id']\n",
    "print(champion_name)\n",
    "display_champion(champion_name)"
   ]
  },
  {
   "cell_type": "code",
   "execution_count": 86,
   "metadata": {},
   "outputs": [
    {
     "name": "stdout",
     "output_type": "stream",
     "text": [
      "2033\n",
      "Corrupting Potion\n"
     ]
    },
    {
     "data": {
      "text/html": [
       "<img src=\"http://ddragon.leagueoflegends.com/cdn/10.22.1/img/item/2033.png\"/>"
      ],
      "text/plain": [
       "<IPython.core.display.HTML object>"
      ]
     },
     "metadata": {},
     "output_type": "display_data"
    },
    {
     "name": "stdout",
     "output_type": "stream",
     "text": [
      "3285\n",
      "Luden's Echo\n"
     ]
    },
    {
     "data": {
      "text/html": [
       "<img src=\"http://ddragon.leagueoflegends.com/cdn/10.22.1/img/item/3285.png\"/>"
      ],
      "text/plain": [
       "<IPython.core.display.HTML object>"
      ]
     },
     "metadata": {},
     "output_type": "display_data"
    },
    {
     "name": "stdout",
     "output_type": "stream",
     "text": [
      "3108\n",
      "Fiendish Codex\n"
     ]
    },
    {
     "data": {
      "text/html": [
       "<img src=\"http://ddragon.leagueoflegends.com/cdn/10.22.1/img/item/3108.png\"/>"
      ],
      "text/plain": [
       "<IPython.core.display.HTML object>"
      ]
     },
     "metadata": {},
     "output_type": "display_data"
    },
    {
     "name": "stdout",
     "output_type": "stream",
     "text": [
      "1082\n",
      "Dark Seal\n"
     ]
    },
    {
     "data": {
      "text/html": [
       "<img src=\"http://ddragon.leagueoflegends.com/cdn/10.22.1/img/item/1082.png\"/>"
      ],
      "text/plain": [
       "<IPython.core.display.HTML object>"
      ]
     },
     "metadata": {},
     "output_type": "display_data"
    },
    {
     "name": "stdout",
     "output_type": "stream",
     "text": [
      "3020\n",
      "Sorcerer's Shoes\n"
     ]
    },
    {
     "data": {
      "text/html": [
       "<img src=\"http://ddragon.leagueoflegends.com/cdn/10.22.1/img/item/3020.png\"/>"
      ],
      "text/plain": [
       "<IPython.core.display.HTML object>"
      ]
     },
     "metadata": {},
     "output_type": "display_data"
    },
    {
     "name": "stdout",
     "output_type": "stream",
     "text": [
      "2055\n",
      "Control Ward\n"
     ]
    },
    {
     "data": {
      "text/html": [
       "<img src=\"http://ddragon.leagueoflegends.com/cdn/10.22.1/img/item/2055.png\"/>"
      ],
      "text/plain": [
       "<IPython.core.display.HTML object>"
      ]
     },
     "metadata": {},
     "output_type": "display_data"
    },
    {
     "name": "stdout",
     "output_type": "stream",
     "text": [
      "3364\n",
      "Oracle Lens\n"
     ]
    },
    {
     "data": {
      "text/html": [
       "<img src=\"http://ddragon.leagueoflegends.com/cdn/10.22.1/img/item/3364.png\"/>"
      ],
      "text/plain": [
       "<IPython.core.display.HTML object>"
      ]
     },
     "metadata": {},
     "output_type": "display_data"
    }
   ],
   "source": [
    "for key, value in sub_player.items():\n",
    "    if 'item' not in key:\n",
    "        continue\n",
    "    item_id = str(value)\n",
    "    item_name = item_map[item_id]['name']\n",
    "    print(item_id)\n",
    "    print(item_name)\n",
    "    display_item(item_id)"
   ]
  },
  {
   "cell_type": "code",
   "execution_count": 18,
   "metadata": {},
   "outputs": [],
   "source": [
    "import requests"
   ]
  },
  {
   "cell_type": "code",
   "execution_count": 7,
   "metadata": {},
   "outputs": [],
   "source": [
    "match_id = match_df['gameId'][0]\n",
    "match_id = int(match_id)"
   ]
  },
  {
   "cell_type": "code",
   "execution_count": 28,
   "metadata": {},
   "outputs": [
    {
     "data": {
      "text/plain": [
       "int"
      ]
     },
     "execution_count": 28,
     "metadata": {},
     "output_type": "execute_result"
    }
   ],
   "source": []
  },
  {
   "cell_type": "code",
   "execution_count": 25,
   "metadata": {
    "scrolled": true
   },
   "outputs": [
    {
     "name": "stdout",
     "output_type": "stream",
     "text": [
      "{'participantId': 10, 'teamId': 200, 'championId': 421, 'win': True, 'item0': 0, 'item1': 2031, 'item2': 0, 'item3': 3071, 'item4': 1412, 'item5': 3111, 'item6': 3364, 'kills': 7, 'deaths': 2, 'assists': 13, 'role': 'NONE', 'lane': 'JUNGLE'}\n",
      "True\n"
     ]
    }
   ],
   "source": [
    "#game \n",
    "game = participants[0]\n",
    "#game has 10 each of which are players\n",
    "player = game[0]\n",
    "\n",
    "#for the game, filter out the participant of the game\n",
    "sub_player1 = filter_participant(game[9])\n",
    "print(sub_player1)\n",
    "print(sub_player1['win'])\n",
    "#print(game[0])"
   ]
  },
  {
   "cell_type": "code",
   "execution_count": 8,
   "metadata": {
    "scrolled": true
   },
   "outputs": [
    {
     "data": {
      "text/html": [
       "<div>\n",
       "<style scoped>\n",
       "    .dataframe tbody tr th:only-of-type {\n",
       "        vertical-align: middle;\n",
       "    }\n",
       "\n",
       "    .dataframe tbody tr th {\n",
       "        vertical-align: top;\n",
       "    }\n",
       "\n",
       "    .dataframe thead th {\n",
       "        text-align: right;\n",
       "    }\n",
       "</style>\n",
       "<table border=\"1\" class=\"dataframe\">\n",
       "  <thead>\n",
       "    <tr style=\"text-align: right;\">\n",
       "      <th></th>\n",
       "      <th>gameCreation</th>\n",
       "      <th>gameDuration</th>\n",
       "      <th>gameId</th>\n",
       "      <th>gameMode</th>\n",
       "      <th>gameType</th>\n",
       "      <th>gameVersion</th>\n",
       "      <th>mapId</th>\n",
       "      <th>participantIdentities</th>\n",
       "      <th>participants</th>\n",
       "      <th>platformId</th>\n",
       "      <th>queueId</th>\n",
       "      <th>seasonId</th>\n",
       "      <th>status.message</th>\n",
       "      <th>status.status_code</th>\n",
       "    </tr>\n",
       "  </thead>\n",
       "  <tbody>\n",
       "    <tr>\n",
       "      <th>0</th>\n",
       "      <td>1.585155e+12</td>\n",
       "      <td>1323.0</td>\n",
       "      <td>4.247263e+09</td>\n",
       "      <td>CLASSIC</td>\n",
       "      <td>MATCHED_GAME</td>\n",
       "      <td>10.6.314.4405</td>\n",
       "      <td>11.0</td>\n",
       "      <td>[{'participantId': 1, 'player': {'platformId':...</td>\n",
       "      <td>[{'participantId': 1, 'teamId': 100, 'champion...</td>\n",
       "      <td>KR</td>\n",
       "      <td>420.0</td>\n",
       "      <td>13.0</td>\n",
       "      <td>NaN</td>\n",
       "      <td>NaN</td>\n",
       "    </tr>\n",
       "    <tr>\n",
       "      <th>1</th>\n",
       "      <td>1.585152e+12</td>\n",
       "      <td>1317.0</td>\n",
       "      <td>4.247156e+09</td>\n",
       "      <td>CLASSIC</td>\n",
       "      <td>MATCHED_GAME</td>\n",
       "      <td>10.6.314.4405</td>\n",
       "      <td>11.0</td>\n",
       "      <td>[{'participantId': 1, 'player': {'platformId':...</td>\n",
       "      <td>[{'participantId': 1, 'teamId': 100, 'champion...</td>\n",
       "      <td>KR</td>\n",
       "      <td>420.0</td>\n",
       "      <td>13.0</td>\n",
       "      <td>NaN</td>\n",
       "      <td>NaN</td>\n",
       "    </tr>\n",
       "    <tr>\n",
       "      <th>2</th>\n",
       "      <td>1.585059e+12</td>\n",
       "      <td>932.0</td>\n",
       "      <td>4.243963e+09</td>\n",
       "      <td>CLASSIC</td>\n",
       "      <td>MATCHED_GAME</td>\n",
       "      <td>10.6.313.8894</td>\n",
       "      <td>11.0</td>\n",
       "      <td>[{'participantId': 1, 'player': {'platformId':...</td>\n",
       "      <td>[{'participantId': 1, 'teamId': 100, 'champion...</td>\n",
       "      <td>KR</td>\n",
       "      <td>420.0</td>\n",
       "      <td>13.0</td>\n",
       "      <td>NaN</td>\n",
       "      <td>NaN</td>\n",
       "    </tr>\n",
       "    <tr>\n",
       "      <th>3</th>\n",
       "      <td>1.584978e+12</td>\n",
       "      <td>2098.0</td>\n",
       "      <td>4.241678e+09</td>\n",
       "      <td>CLASSIC</td>\n",
       "      <td>MATCHED_GAME</td>\n",
       "      <td>10.6.313.8894</td>\n",
       "      <td>11.0</td>\n",
       "      <td>[{'participantId': 1, 'player': {'platformId':...</td>\n",
       "      <td>[{'participantId': 1, 'teamId': 100, 'champion...</td>\n",
       "      <td>KR</td>\n",
       "      <td>420.0</td>\n",
       "      <td>13.0</td>\n",
       "      <td>NaN</td>\n",
       "      <td>NaN</td>\n",
       "    </tr>\n",
       "    <tr>\n",
       "      <th>4</th>\n",
       "      <td>1.584973e+12</td>\n",
       "      <td>2344.0</td>\n",
       "      <td>4.241539e+09</td>\n",
       "      <td>CLASSIC</td>\n",
       "      <td>MATCHED_GAME</td>\n",
       "      <td>10.6.313.8894</td>\n",
       "      <td>11.0</td>\n",
       "      <td>[{'participantId': 1, 'player': {'platformId':...</td>\n",
       "      <td>[{'participantId': 1, 'teamId': 100, 'champion...</td>\n",
       "      <td>KR</td>\n",
       "      <td>420.0</td>\n",
       "      <td>13.0</td>\n",
       "      <td>NaN</td>\n",
       "      <td>NaN</td>\n",
       "    </tr>\n",
       "  </tbody>\n",
       "</table>\n",
       "</div>"
      ],
      "text/plain": [
       "   gameCreation  gameDuration        gameId gameMode      gameType  \\\n",
       "0  1.585155e+12        1323.0  4.247263e+09  CLASSIC  MATCHED_GAME   \n",
       "1  1.585152e+12        1317.0  4.247156e+09  CLASSIC  MATCHED_GAME   \n",
       "2  1.585059e+12         932.0  4.243963e+09  CLASSIC  MATCHED_GAME   \n",
       "3  1.584978e+12        2098.0  4.241678e+09  CLASSIC  MATCHED_GAME   \n",
       "4  1.584973e+12        2344.0  4.241539e+09  CLASSIC  MATCHED_GAME   \n",
       "\n",
       "     gameVersion  mapId                              participantIdentities  \\\n",
       "0  10.6.314.4405   11.0  [{'participantId': 1, 'player': {'platformId':...   \n",
       "1  10.6.314.4405   11.0  [{'participantId': 1, 'player': {'platformId':...   \n",
       "2  10.6.313.8894   11.0  [{'participantId': 1, 'player': {'platformId':...   \n",
       "3  10.6.313.8894   11.0  [{'participantId': 1, 'player': {'platformId':...   \n",
       "4  10.6.313.8894   11.0  [{'participantId': 1, 'player': {'platformId':...   \n",
       "\n",
       "                                        participants platformId  queueId  \\\n",
       "0  [{'participantId': 1, 'teamId': 100, 'champion...         KR    420.0   \n",
       "1  [{'participantId': 1, 'teamId': 100, 'champion...         KR    420.0   \n",
       "2  [{'participantId': 1, 'teamId': 100, 'champion...         KR    420.0   \n",
       "3  [{'participantId': 1, 'teamId': 100, 'champion...         KR    420.0   \n",
       "4  [{'participantId': 1, 'teamId': 100, 'champion...         KR    420.0   \n",
       "\n",
       "   seasonId status.message  status.status_code  \n",
       "0      13.0            NaN                 NaN  \n",
       "1      13.0            NaN                 NaN  \n",
       "2      13.0            NaN                 NaN  \n",
       "3      13.0            NaN                 NaN  \n",
       "4      13.0            NaN                 NaN  "
      ]
     },
     "execution_count": 8,
     "metadata": {},
     "output_type": "execute_result"
    }
   ],
   "source": [
    "##Lets examine items with good value. \n",
    "match_df.head(5)\n",
    "participants = match_df['participants']"
   ]
  },
  {
   "cell_type": "code",
   "execution_count": 47,
   "metadata": {
    "scrolled": true
   },
   "outputs": [],
   "source": [
    "def itemStats(itemID):\n",
    "    #iterate through all matches to get data\n",
    "    #itemID = 3285\n",
    "    totalL = 0\n",
    "    totalW = 0\n",
    "    winsWItem = 0\n",
    "    lossesWItem = 0\n",
    "    \n",
    "    pureWins = 0\n",
    "    pureLoss = 0\n",
    "\n",
    "    for i in range(0, 1000):\n",
    "        game = participants[i]\n",
    "        winTeamHas = False #use this to calculate winsWItem\n",
    "        lossTeamHas = False #use this to calculate lossesWItem\n",
    "\n",
    "        #iterate through all 10 players\n",
    "        #count the item we're trying to check for \n",
    "        #we will keep track of item purchased on the losing team and item purchased on the winning team. \n",
    "        for player in range(0, 10):\n",
    "            currplayer = game[player]\n",
    "            filtered = filter_participant(currplayer)\n",
    "            filtered\n",
    "            for key, value in filtered.items():\n",
    "                if 'item' not in key:\n",
    "                    continue\n",
    "                #won\n",
    "                if int(value) == itemID and filtered['win']:\n",
    "                    totalW += 1\n",
    "                    if not winTeamHas:\n",
    "                        winsWItem += 1\n",
    "                        winTeamHas = True\n",
    "\n",
    "                #lost\n",
    "                if int(value) == itemID and not filtered['win']:\n",
    "                    totalL += 1\n",
    "                    if not lossTeamHas:\n",
    "                        lossesWItem += 1\n",
    "                        lossTeamHas = True\n",
    "                \n",
    "        if winTeamHas and not lossTeamHas:\n",
    "            pureWins += 0\n",
    "        \n",
    "        if lossTeamHas and not winTeamHas:\n",
    "            pureLoss += 1\n",
    "\n",
    "    \n",
    "    return (totalL, totalW, lossesWItem, winsWItem, pureLoss, pureWins)\n",
    "                \n",
    "            \n",
    "\n",
    "        \n",
    "        "
   ]
  },
  {
   "cell_type": "code",
   "execution_count": null,
   "metadata": {},
   "outputs": [],
   "source": []
  },
  {
   "cell_type": "code",
   "execution_count": 51,
   "metadata": {},
   "outputs": [],
   "source": [
    "stats = itemStats(3285)"
   ]
  },
  {
   "cell_type": "code",
   "execution_count": 54,
   "metadata": {},
   "outputs": [
    {
     "name": "stdout",
     "output_type": "stream",
     "text": [
      "How many people built this item and lost:  359\n",
      "How many games were lost when at least one person built this item:  296\n",
      "How many people built this item and won:  372\n",
      "How many games were won when at least one person built this item:  320\n",
      "How many times did this item lose when the other team didn't have it:  177\n",
      "How many times did this item win when the other team didn't have it:  201\n"
     ]
    }
   ],
   "source": [
    "print(\"How many people built this item and lost: \", stats[0])\n",
    "print(\"How many games were lost when at least one person built this item: \", stats[2])\n",
    "print(\"How many people built this item and won: \", stats[1])\n",
    "print(\"How many games were won when at least one person built this item: \", stats[3])\n",
    "print(\"How many times did this item lose when the other team didn't have it: \", stats[4])\n",
    "print(\"How many times did this item win when the other team didn't have it: \", stats[5])\n"
   ]
  },
  {
   "cell_type": "code",
   "execution_count": null,
   "metadata": {},
   "outputs": [],
   "source": [
    "#given a champion ID, return win rates for early-late game. \n",
    "def championWR(champID):\n",
    "    #iterate through all matches to get data\n",
    "    w15 = 0\n",
    "    w25 = 0\n",
    "    w35 = 0\n",
    "    w40 = 0\n",
    "    l15 = 0\n",
    "    l25 = 0\n",
    "    l35 = 0\n",
    "    l40 = 0\n",
    "\n",
    "    for i in range(0, 1000):\n",
    "        game = participants[i]\n",
    "        winTeamHas = False #use this to calculate winsWItem\n",
    "        lossTeamHas = False #use this to calculate lossesWItem\n",
    "\n",
    "        #iterate through all 10 players\n",
    "        #count the item we're trying to check for \n",
    "        #we will keep track of item purchased on the losing team and item purchased on the winning team. \n",
    "        for player in range(0, 10):\n",
    "            currplayer = game[player]\n",
    "            filtered = filter_participant(currplayer)\n",
    "            filtered\n",
    "            for key, value in filtered.items():\n",
    "                if 'item' not in key:\n",
    "                    continue\n",
    "                #won\n",
    "                if int(value) == itemID and filtered['win']:\n",
    "                    totalW += 1\n",
    "                    if not winTeamHas:\n",
    "                        winsWItem += 1\n",
    "                        winTeamHas = True\n",
    "\n",
    "                #lost\n",
    "                if int(value) == itemID and not filtered['win']:\n",
    "                    totalL += 1\n",
    "                    if not lossTeamHas:\n",
    "                        lossesWItem += 1\n",
    "                        lossTeamHas = True\n",
    "                \n",
    "        if winTeamHas and not lossTeamHas:\n",
    "            pureWins += 1\n",
    "        \n",
    "        if lossTeamHas and not winTeamHas:\n",
    "            pureLoss += 1\n",
    "\n",
    "    \n",
    "    return (totalL, totalW, lossesWItem, winsWItem, pureLoss, pureWins)\n",
    "                \n",
    "            \n",
    "\n",
    "        \n",
    "        "
   ]
  }
 ],
 "metadata": {
  "kernelspec": {
   "display_name": "Python 3",
   "language": "python",
   "name": "python3"
  },
  "language_info": {
   "codemirror_mode": {
    "name": "ipython",
    "version": 3
   },
   "file_extension": ".py",
   "mimetype": "text/x-python",
   "name": "python",
   "nbconvert_exporter": "python",
   "pygments_lexer": "ipython3",
   "version": "3.7.4"
  }
 },
 "nbformat": 4,
 "nbformat_minor": 4
}
