{
 "cells": [
  {
   "cell_type": "code",
   "execution_count": 1,
   "metadata": {},
   "outputs": [],
   "source": [
    "%load_ext autoreload\n",
    "%autoreload 2"
   ]
  },
  {
   "cell_type": "code",
   "execution_count": 57,
   "metadata": {},
   "outputs": [],
   "source": [
    "import json\n",
    "\n",
    "import matplotlib.pyplot as plt\n",
    "import numpy as np\n",
    "import pandas as pd\n",
    "\n",
    "from tools import *\n",
    "from league_api import *"
   ]
  },
  {
   "cell_type": "code",
   "execution_count": 15,
   "metadata": {},
   "outputs": [
    {
     "data": {
      "text/plain": [
       "['.keep',\n",
       " 'archive.zip',\n",
       " 'challenger_match.csv',\n",
       " 'challenger_match_V2.csv',\n",
       " 'match_data_version1.csv',\n",
       " 'match_data_version1.pickle',\n",
       " 'match_data_version1_subset_1000.pickle',\n",
       " 'match_data_version2.pickle',\n",
       " 'match_loser_data_version1.csv',\n",
       " 'match_loser_data_version1.pickle',\n",
       " 'match_winner_data_version1.csv',\n",
       " 'match_winner_data_version1.pickle']"
      ]
     },
     "execution_count": 15,
     "metadata": {},
     "output_type": "execute_result"
    }
   ],
   "source": [
    "list_data_files()"
   ]
  },
  {
   "cell_type": "code",
   "execution_count": 42,
   "metadata": {},
   "outputs": [
    {
     "name": "stdout",
     "output_type": "stream",
     "text": [
      "Saved to data/match_data_version1_subset_1000.pickle\n"
     ]
    }
   ],
   "source": [
    "create_subset('match_data_version1.pickle', 1000)"
   ]
  },
  {
   "cell_type": "code",
   "execution_count": 22,
   "metadata": {},
   "outputs": [],
   "source": [
    "match_df = load('match_data_version1_subset_1000.pickle')"
   ]
  },
  {
   "cell_type": "code",
   "execution_count": 23,
   "metadata": {},
   "outputs": [
    {
     "name": "stdout",
     "output_type": "stream",
     "text": [
      "<class 'pandas.core.frame.DataFrame'>\n",
      "Int64Index: 1000 entries, 0 to 999\n",
      "Data columns (total 14 columns):\n",
      " #   Column                 Non-Null Count  Dtype  \n",
      "---  ------                 --------------  -----  \n",
      " 0   gameCreation           1000 non-null   float64\n",
      " 1   gameDuration           1000 non-null   float64\n",
      " 2   gameId                 1000 non-null   float64\n",
      " 3   gameMode               1000 non-null   object \n",
      " 4   gameType               1000 non-null   object \n",
      " 5   gameVersion            1000 non-null   object \n",
      " 6   mapId                  1000 non-null   float64\n",
      " 7   participantIdentities  1000 non-null   object \n",
      " 8   participants           1000 non-null   object \n",
      " 9   platformId             1000 non-null   object \n",
      " 10  queueId                1000 non-null   float64\n",
      " 11  seasonId               1000 non-null   float64\n",
      " 12  status.message         0 non-null      object \n",
      " 13  status.status_code     0 non-null      float64\n",
      "dtypes: float64(7), object(7)\n",
      "memory usage: 117.2+ KB\n"
     ]
    }
   ],
   "source": [
    "match_df.info()"
   ]
  },
  {
   "cell_type": "code",
   "execution_count": 6,
   "metadata": {},
   "outputs": [
    {
     "data": {
      "text/html": [
       "<div>\n",
       "<style scoped>\n",
       "    .dataframe tbody tr th:only-of-type {\n",
       "        vertical-align: middle;\n",
       "    }\n",
       "\n",
       "    .dataframe tbody tr th {\n",
       "        vertical-align: top;\n",
       "    }\n",
       "\n",
       "    .dataframe thead th {\n",
       "        text-align: right;\n",
       "    }\n",
       "</style>\n",
       "<table border=\"1\" class=\"dataframe\">\n",
       "  <thead>\n",
       "    <tr style=\"text-align: right;\">\n",
       "      <th></th>\n",
       "      <th>gameCreation</th>\n",
       "      <th>gameDuration</th>\n",
       "      <th>gameId</th>\n",
       "      <th>gameMode</th>\n",
       "      <th>gameType</th>\n",
       "      <th>gameVersion</th>\n",
       "      <th>mapId</th>\n",
       "      <th>participantIdentities</th>\n",
       "      <th>participants</th>\n",
       "      <th>platformId</th>\n",
       "      <th>queueId</th>\n",
       "      <th>seasonId</th>\n",
       "      <th>status.message</th>\n",
       "      <th>status.status_code</th>\n",
       "    </tr>\n",
       "  </thead>\n",
       "  <tbody>\n",
       "    <tr>\n",
       "      <th>0</th>\n",
       "      <td>1.585155e+12</td>\n",
       "      <td>1323.0</td>\n",
       "      <td>4.247263e+09</td>\n",
       "      <td>CLASSIC</td>\n",
       "      <td>MATCHED_GAME</td>\n",
       "      <td>10.6.314.4405</td>\n",
       "      <td>11.0</td>\n",
       "      <td>[{'participantId': 1, 'player': {'platformId':...</td>\n",
       "      <td>[{'participantId': 1, 'teamId': 100, 'champion...</td>\n",
       "      <td>KR</td>\n",
       "      <td>420.0</td>\n",
       "      <td>13.0</td>\n",
       "      <td>NaN</td>\n",
       "      <td>NaN</td>\n",
       "    </tr>\n",
       "    <tr>\n",
       "      <th>1</th>\n",
       "      <td>1.585152e+12</td>\n",
       "      <td>1317.0</td>\n",
       "      <td>4.247156e+09</td>\n",
       "      <td>CLASSIC</td>\n",
       "      <td>MATCHED_GAME</td>\n",
       "      <td>10.6.314.4405</td>\n",
       "      <td>11.0</td>\n",
       "      <td>[{'participantId': 1, 'player': {'platformId':...</td>\n",
       "      <td>[{'participantId': 1, 'teamId': 100, 'champion...</td>\n",
       "      <td>KR</td>\n",
       "      <td>420.0</td>\n",
       "      <td>13.0</td>\n",
       "      <td>NaN</td>\n",
       "      <td>NaN</td>\n",
       "    </tr>\n",
       "    <tr>\n",
       "      <th>2</th>\n",
       "      <td>1.585059e+12</td>\n",
       "      <td>932.0</td>\n",
       "      <td>4.243963e+09</td>\n",
       "      <td>CLASSIC</td>\n",
       "      <td>MATCHED_GAME</td>\n",
       "      <td>10.6.313.8894</td>\n",
       "      <td>11.0</td>\n",
       "      <td>[{'participantId': 1, 'player': {'platformId':...</td>\n",
       "      <td>[{'participantId': 1, 'teamId': 100, 'champion...</td>\n",
       "      <td>KR</td>\n",
       "      <td>420.0</td>\n",
       "      <td>13.0</td>\n",
       "      <td>NaN</td>\n",
       "      <td>NaN</td>\n",
       "    </tr>\n",
       "    <tr>\n",
       "      <th>3</th>\n",
       "      <td>1.584978e+12</td>\n",
       "      <td>2098.0</td>\n",
       "      <td>4.241678e+09</td>\n",
       "      <td>CLASSIC</td>\n",
       "      <td>MATCHED_GAME</td>\n",
       "      <td>10.6.313.8894</td>\n",
       "      <td>11.0</td>\n",
       "      <td>[{'participantId': 1, 'player': {'platformId':...</td>\n",
       "      <td>[{'participantId': 1, 'teamId': 100, 'champion...</td>\n",
       "      <td>KR</td>\n",
       "      <td>420.0</td>\n",
       "      <td>13.0</td>\n",
       "      <td>NaN</td>\n",
       "      <td>NaN</td>\n",
       "    </tr>\n",
       "    <tr>\n",
       "      <th>4</th>\n",
       "      <td>1.584973e+12</td>\n",
       "      <td>2344.0</td>\n",
       "      <td>4.241539e+09</td>\n",
       "      <td>CLASSIC</td>\n",
       "      <td>MATCHED_GAME</td>\n",
       "      <td>10.6.313.8894</td>\n",
       "      <td>11.0</td>\n",
       "      <td>[{'participantId': 1, 'player': {'platformId':...</td>\n",
       "      <td>[{'participantId': 1, 'teamId': 100, 'champion...</td>\n",
       "      <td>KR</td>\n",
       "      <td>420.0</td>\n",
       "      <td>13.0</td>\n",
       "      <td>NaN</td>\n",
       "      <td>NaN</td>\n",
       "    </tr>\n",
       "  </tbody>\n",
       "</table>\n",
       "</div>"
      ],
      "text/plain": [
       "   gameCreation  gameDuration        gameId gameMode      gameType  \\\n",
       "0  1.585155e+12        1323.0  4.247263e+09  CLASSIC  MATCHED_GAME   \n",
       "1  1.585152e+12        1317.0  4.247156e+09  CLASSIC  MATCHED_GAME   \n",
       "2  1.585059e+12         932.0  4.243963e+09  CLASSIC  MATCHED_GAME   \n",
       "3  1.584978e+12        2098.0  4.241678e+09  CLASSIC  MATCHED_GAME   \n",
       "4  1.584973e+12        2344.0  4.241539e+09  CLASSIC  MATCHED_GAME   \n",
       "\n",
       "     gameVersion  mapId                              participantIdentities  \\\n",
       "0  10.6.314.4405   11.0  [{'participantId': 1, 'player': {'platformId':...   \n",
       "1  10.6.314.4405   11.0  [{'participantId': 1, 'player': {'platformId':...   \n",
       "2  10.6.313.8894   11.0  [{'participantId': 1, 'player': {'platformId':...   \n",
       "3  10.6.313.8894   11.0  [{'participantId': 1, 'player': {'platformId':...   \n",
       "4  10.6.313.8894   11.0  [{'participantId': 1, 'player': {'platformId':...   \n",
       "\n",
       "                                        participants platformId  queueId  \\\n",
       "0  [{'participantId': 1, 'teamId': 100, 'champion...         KR    420.0   \n",
       "1  [{'participantId': 1, 'teamId': 100, 'champion...         KR    420.0   \n",
       "2  [{'participantId': 1, 'teamId': 100, 'champion...         KR    420.0   \n",
       "3  [{'participantId': 1, 'teamId': 100, 'champion...         KR    420.0   \n",
       "4  [{'participantId': 1, 'teamId': 100, 'champion...         KR    420.0   \n",
       "\n",
       "   seasonId status.message  status.status_code  \n",
       "0      13.0            NaN                 NaN  \n",
       "1      13.0            NaN                 NaN  \n",
       "2      13.0            NaN                 NaN  \n",
       "3      13.0            NaN                 NaN  \n",
       "4      13.0            NaN                 NaN  "
      ]
     },
     "execution_count": 6,
     "metadata": {},
     "output_type": "execute_result"
    }
   ],
   "source": [
    "match_df.head()"
   ]
  },
  {
   "cell_type": "code",
   "execution_count": 28,
   "metadata": {},
   "outputs": [],
   "source": [
    "participants = match_df['participants']"
   ]
  },
  {
   "cell_type": "code",
   "execution_count": 29,
   "metadata": {},
   "outputs": [
    {
     "data": {
      "text/plain": [
       "0      [{'participantId': 1, 'teamId': 100, 'champion...\n",
       "1      [{'participantId': 1, 'teamId': 100, 'champion...\n",
       "2      [{'participantId': 1, 'teamId': 100, 'champion...\n",
       "3      [{'participantId': 1, 'teamId': 100, 'champion...\n",
       "4      [{'participantId': 1, 'teamId': 100, 'champion...\n",
       "                             ...                        \n",
       "995    [{'participantId': 1, 'teamId': 100, 'champion...\n",
       "996    [{'participantId': 1, 'teamId': 100, 'champion...\n",
       "997    [{'participantId': 1, 'teamId': 100, 'champion...\n",
       "998    [{'participantId': 1, 'teamId': 100, 'champion...\n",
       "999    [{'participantId': 1, 'teamId': 100, 'champion...\n",
       "Name: participants, Length: 1000, dtype: object"
      ]
     },
     "execution_count": 29,
     "metadata": {},
     "output_type": "execute_result"
    }
   ],
   "source": [
    "participants"
   ]
  },
  {
   "cell_type": "code",
   "execution_count": 31,
   "metadata": {},
   "outputs": [],
   "source": [
    "p = participants[0]"
   ]
  },
  {
   "cell_type": "code",
   "execution_count": 44,
   "metadata": {},
   "outputs": [],
   "source": [
    "create_example_participant()"
   ]
  },
  {
   "cell_type": "code",
   "execution_count": 45,
   "metadata": {},
   "outputs": [],
   "source": [
    "champion_id_to_champion = create_champion_dict()"
   ]
  },
  {
   "cell_type": "code",
   "execution_count": 59,
   "metadata": {},
   "outputs": [
    {
     "name": "stdout",
     "output_type": "stream",
     "text": [
      "DUO_CARRY MIDDLE 7 Leblanc\n",
      "DUO_SUPPORT MIDDLE 350 Yuumi\n",
      "SOLO TOP 266 Aatrox\n",
      "NONE JUNGLE 517 Sylas\n",
      "SOLO BOTTOM 110 Varus\n",
      "DUO_SUPPORT BOTTOM 235 Senna\n",
      "DUO_CARRY BOTTOM 81 Ezreal\n",
      "SOLO MIDDLE 127 Lissandra\n",
      "SOLO TOP 84 Akali\n",
      "NONE JUNGLE 421 RekSai\n"
     ]
    }
   ],
   "source": [
    "for part in p:\n",
    "    timeline = part['timeline']\n",
    "    champion_id = part['championId']\n",
    "    champion_id = str(champion_id)\n",
    "    role = timeline['role']\n",
    "    lane = timeline['lane']\n",
    "    champion_name = champion_id_to_champion[champion_id]['id']\n",
    "    print(role, lane, champion_id, champion_name)"
   ]
  },
  {
   "cell_type": "code",
   "execution_count": 56,
   "metadata": {},
   "outputs": [
    {
     "data": {
      "text/html": [
       "<img src=\"http://ddragon.leagueoflegends.com/cdn/10.22.1/img/item/1001.png\"/>"
      ],
      "text/plain": [
       "<IPython.core.display.HTML object>"
      ]
     },
     "metadata": {},
     "output_type": "display_data"
    }
   ],
   "source": [
    "display_item(1001)"
   ]
  },
  {
   "cell_type": "code",
   "execution_count": 58,
   "metadata": {},
   "outputs": [
    {
     "data": {
      "text/html": [
       "<img src=\"http://ddragon.leagueoflegends.com/cdn/10.22.1/img/champion/Aatrox.png\"/>"
      ],
      "text/plain": [
       "<IPython.core.display.HTML object>"
      ]
     },
     "metadata": {},
     "output_type": "display_data"
    }
   ],
   "source": [
    "display_champion('Aatrox')"
   ]
  },
  {
   "cell_type": "code",
   "execution_count": null,
   "metadata": {},
   "outputs": [],
   "source": []
  }
 ],
 "metadata": {
  "kernelspec": {
   "display_name": "Python 3",
   "language": "python",
   "name": "python3"
  },
  "language_info": {
   "codemirror_mode": {
    "name": "ipython",
    "version": 3
   },
   "file_extension": ".py",
   "mimetype": "text/x-python",
   "name": "python",
   "nbconvert_exporter": "python",
   "pygments_lexer": "ipython3",
   "version": "3.7.7"
  }
 },
 "nbformat": 4,
 "nbformat_minor": 4
}
