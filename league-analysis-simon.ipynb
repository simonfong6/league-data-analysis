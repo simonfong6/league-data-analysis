{
 "cells": [
  {
   "cell_type": "code",
   "execution_count": 1,
   "metadata": {},
   "outputs": [],
   "source": [
    "%load_ext autoreload\n",
    "%autoreload 2"
   ]
  },
  {
   "cell_type": "code",
   "execution_count": 154,
   "metadata": {},
   "outputs": [],
   "source": [
    "import json\n",
    "\n",
    "import matplotlib.pyplot as plt\n",
    "import numpy as np\n",
    "import pandas as pd\n",
    "\n",
    "from tools import *\n",
    "from league_api import *"
   ]
  },
  {
   "cell_type": "code",
   "execution_count": 79,
   "metadata": {},
   "outputs": [
    {
     "name": "stdout",
     "output_type": "stream",
     "text": [
      "Saved to data/match_data_version1_subset_10000.pickle\n"
     ]
    }
   ],
   "source": [
    "create_subset('match_data_version1.pickle', 10000)"
   ]
  },
  {
   "cell_type": "code",
   "execution_count": 163,
   "metadata": {},
   "outputs": [],
   "source": [
    "match_df = load('match_data_version1.pickle')"
   ]
  },
  {
   "cell_type": "code",
   "execution_count": 165,
   "metadata": {},
   "outputs": [],
   "source": [
    "match_df_10000 = load('match_data_version1_subset_10000.pickle')"
   ]
  },
  {
   "cell_type": "code",
   "execution_count": 170,
   "metadata": {
    "scrolled": false
   },
   "outputs": [
    {
     "data": {
      "text/html": [
       "<img src=\"http://ddragon.leagueoflegends.com/cdn/10.22.1/img/item/1083.png\"/>"
      ],
      "text/plain": [
       "<IPython.core.display.HTML object>"
      ]
     },
     "metadata": {},
     "output_type": "display_data"
    },
    {
     "name": "stdout",
     "output_type": "stream",
     "text": [
      "Cull\n",
      "Win Rate: 100%\n",
      "Uses: 1\n"
     ]
    },
    {
     "data": {
      "text/html": [
       "<img src=\"http://ddragon.leagueoflegends.com/cdn/10.22.1/img/item/3065.png\"/>"
      ],
      "text/plain": [
       "<IPython.core.display.HTML object>"
      ]
     },
     "metadata": {},
     "output_type": "display_data"
    },
    {
     "name": "stdout",
     "output_type": "stream",
     "text": [
      "Spirit Visage\n",
      "Win Rate: 100%\n",
      "Uses: 1\n"
     ]
    },
    {
     "data": {
      "text/html": [
       "<img src=\"http://ddragon.leagueoflegends.com/cdn/10.22.1/img/item/3009.png\"/>"
      ],
      "text/plain": [
       "<IPython.core.display.HTML object>"
      ]
     },
     "metadata": {},
     "output_type": "display_data"
    },
    {
     "name": "stdout",
     "output_type": "stream",
     "text": [
      "Boots of Swiftness\n",
      "Win Rate: 100%\n",
      "Uses: 1\n"
     ]
    },
    {
     "data": {
      "text/html": [
       "<img src=\"http://ddragon.leagueoflegends.com/cdn/10.22.1/img/item/3211.png\"/>"
      ],
      "text/plain": [
       "<IPython.core.display.HTML object>"
      ]
     },
     "metadata": {},
     "output_type": "display_data"
    },
    {
     "name": "stdout",
     "output_type": "stream",
     "text": [
      "Spectre's Cowl\n",
      "Win Rate: 100%\n",
      "Uses: 2\n"
     ]
    },
    {
     "data": {
      "text/html": [
       "<img src=\"http://ddragon.leagueoflegends.com/cdn/10.22.1/img/item/1412.png\"/>"
      ],
      "text/plain": [
       "<IPython.core.display.HTML object>"
      ]
     },
     "metadata": {},
     "output_type": "display_data"
    },
    {
     "name": "stdout",
     "output_type": "stream",
     "text": [
      "Enchantment: Warrior\n",
      "Win Rate: 100%\n",
      "Uses: 1\n"
     ]
    },
    {
     "data": {
      "text/html": [
       "<img src=\"http://ddragon.leagueoflegends.com/cdn/10.22.1/img/item/3158.png\"/>"
      ],
      "text/plain": [
       "<IPython.core.display.HTML object>"
      ]
     },
     "metadata": {},
     "output_type": "display_data"
    },
    {
     "name": "stdout",
     "output_type": "stream",
     "text": [
      "Ionian Boots of Lucidity\n",
      "Win Rate: 100%\n",
      "Uses: 1\n"
     ]
    },
    {
     "data": {
      "text/html": [
       "<img src=\"http://ddragon.leagueoflegends.com/cdn/10.22.1/img/item/3140.png\"/>"
      ],
      "text/plain": [
       "<IPython.core.display.HTML object>"
      ]
     },
     "metadata": {},
     "output_type": "display_data"
    },
    {
     "name": "stdout",
     "output_type": "stream",
     "text": [
      "Quicksilver Sash\n",
      "Win Rate: 100%\n",
      "Uses: 2\n"
     ]
    },
    {
     "data": {
      "text/html": [
       "<img src=\"http://ddragon.leagueoflegends.com/cdn/10.22.1/img/item/2051.png\"/>"
      ],
      "text/plain": [
       "<IPython.core.display.HTML object>"
      ]
     },
     "metadata": {},
     "output_type": "display_data"
    },
    {
     "name": "stdout",
     "output_type": "stream",
     "text": [
      "Guardian's Horn\n",
      "Win Rate: 100%\n",
      "Uses: 1\n"
     ]
    },
    {
     "data": {
      "text/html": [
       "<img src=\"http://ddragon.leagueoflegends.com/cdn/10.22.1/img/item/3156.png\"/>"
      ],
      "text/plain": [
       "<IPython.core.display.HTML object>"
      ]
     },
     "metadata": {},
     "output_type": "display_data"
    },
    {
     "name": "stdout",
     "output_type": "stream",
     "text": [
      "Maw of Malmortius\n",
      "Win Rate: 100%\n",
      "Uses: 1\n"
     ]
    },
    {
     "data": {
      "text/html": [
       "<img src=\"http://ddragon.leagueoflegends.com/cdn/10.22.1/img/item/2052.png\"/>"
      ],
      "text/plain": [
       "<IPython.core.display.HTML object>"
      ]
     },
     "metadata": {},
     "output_type": "display_data"
    },
    {
     "name": "stdout",
     "output_type": "stream",
     "text": [
      "Poro-Snax\n",
      "Win Rate: 100%\n",
      "Uses: 1\n"
     ]
    },
    {
     "data": {
      "text/html": [
       "<img src=\"http://ddragon.leagueoflegends.com/cdn/10.22.1/img/item/3117.png\"/>"
      ],
      "text/plain": [
       "<IPython.core.display.HTML object>"
      ]
     },
     "metadata": {},
     "output_type": "display_data"
    },
    {
     "name": "stdout",
     "output_type": "stream",
     "text": [
      "Boots of Mobility\n",
      "Win Rate: 100%\n",
      "Uses: 1\n"
     ]
    },
    {
     "data": {
      "text/html": [
       "<img src=\"http://ddragon.leagueoflegends.com/cdn/10.22.1/img/item/3133.png\"/>"
      ],
      "text/plain": [
       "<IPython.core.display.HTML object>"
      ]
     },
     "metadata": {},
     "output_type": "display_data"
    },
    {
     "name": "stdout",
     "output_type": "stream",
     "text": [
      "Caulfield's Warhammer\n",
      "Win Rate: 100%\n",
      "Uses: 1\n"
     ]
    },
    {
     "data": {
      "text/html": [
       "<img src=\"http://ddragon.leagueoflegends.com/cdn/10.22.1/img/item/3181.png\"/>"
      ],
      "text/plain": [
       "<IPython.core.display.HTML object>"
      ]
     },
     "metadata": {},
     "output_type": "display_data"
    },
    {
     "name": "stdout",
     "output_type": "stream",
     "text": [
      "Sanguine Blade\n",
      "Win Rate: 100%\n",
      "Uses: 1\n"
     ]
    },
    {
     "data": {
      "text/html": [
       "<img src=\"http://ddragon.leagueoflegends.com/cdn/10.22.1/img/item/3812.png\"/>"
      ],
      "text/plain": [
       "<IPython.core.display.HTML object>"
      ]
     },
     "metadata": {},
     "output_type": "display_data"
    },
    {
     "name": "stdout",
     "output_type": "stream",
     "text": [
      "Death's Dance\n",
      "Win Rate: 80%\n",
      "Uses: 5\n"
     ]
    },
    {
     "data": {
      "text/html": [
       "<img src=\"http://ddragon.leagueoflegends.com/cdn/10.22.1/img/item/3384.png\"/>"
      ],
      "text/plain": [
       "<IPython.core.display.HTML object>"
      ]
     },
     "metadata": {},
     "output_type": "display_data"
    },
    {
     "name": "stdout",
     "output_type": "stream",
     "text": [
      "Trinity Fusion\n",
      "Win Rate: 75%\n",
      "Uses: 4\n"
     ]
    },
    {
     "data": {
      "text/html": [
       "<img src=\"http://ddragon.leagueoflegends.com/cdn/10.22.1/img/item/3026.png\"/>"
      ],
      "text/plain": [
       "<IPython.core.display.HTML object>"
      ]
     },
     "metadata": {},
     "output_type": "display_data"
    },
    {
     "name": "stdout",
     "output_type": "stream",
     "text": [
      "Guardian Angel\n",
      "Win Rate: 74%\n",
      "Uses: 23\n"
     ]
    },
    {
     "data": {
      "text/html": [
       "<img src=\"http://ddragon.leagueoflegends.com/cdn/10.22.1/img/item/2055.png\"/>"
      ],
      "text/plain": [
       "<IPython.core.display.HTML object>"
      ]
     },
     "metadata": {},
     "output_type": "display_data"
    },
    {
     "name": "stdout",
     "output_type": "stream",
     "text": [
      "Control Ward\n",
      "Win Rate: 70%\n",
      "Uses: 20\n"
     ]
    },
    {
     "data": {
      "text/html": [
       "<img src=\"http://ddragon.leagueoflegends.com/cdn/10.22.1/img/item/1038.png\"/>"
      ],
      "text/plain": [
       "<IPython.core.display.HTML object>"
      ]
     },
     "metadata": {},
     "output_type": "display_data"
    },
    {
     "name": "stdout",
     "output_type": "stream",
     "text": [
      "B. F. Sword\n",
      "Win Rate: 67%\n",
      "Uses: 3\n"
     ]
    },
    {
     "data": {
      "text/html": [
       "<img src=\"http://ddragon.leagueoflegends.com/cdn/10.22.1/img/item/1029.png\"/>"
      ],
      "text/plain": [
       "<IPython.core.display.HTML object>"
      ]
     },
     "metadata": {},
     "output_type": "display_data"
    },
    {
     "name": "stdout",
     "output_type": "stream",
     "text": [
      "Cloth Armor\n",
      "Win Rate: 60%\n",
      "Uses: 5\n"
     ]
    },
    {
     "data": {
      "text/html": [
       "<img src=\"http://ddragon.leagueoflegends.com/cdn/10.22.1/img/item/2421.png\"/>"
      ],
      "text/plain": [
       "<IPython.core.display.HTML object>"
      ]
     },
     "metadata": {},
     "output_type": "display_data"
    },
    {
     "name": "stdout",
     "output_type": "stream",
     "text": [
      "Broken Stopwatch\n",
      "Win Rate: 58%\n",
      "Uses: 24\n"
     ]
    },
    {
     "data": {
      "text/html": [
       "<img src=\"http://ddragon.leagueoflegends.com/cdn/10.22.1/img/item/3364.png\"/>"
      ],
      "text/plain": [
       "<IPython.core.display.HTML object>"
      ]
     },
     "metadata": {},
     "output_type": "display_data"
    },
    {
     "name": "stdout",
     "output_type": "stream",
     "text": [
      "Oracle Lens\n",
      "Win Rate: 58%\n",
      "Uses: 50\n"
     ]
    },
    {
     "data": {
      "text/html": [
       "<img src=\"http://ddragon.leagueoflegends.com/cdn/10.22.1/img/item/3111.png\"/>"
      ],
      "text/plain": [
       "<IPython.core.display.HTML object>"
      ]
     },
     "metadata": {},
     "output_type": "display_data"
    },
    {
     "name": "stdout",
     "output_type": "stream",
     "text": [
      "Mercury's Treads\n",
      "Win Rate: 57%\n",
      "Uses: 21\n"
     ]
    },
    {
     "data": {
      "text/html": [
       "<img src=\"http://ddragon.leagueoflegends.com/cdn/10.22.1/img/item/3074.png\"/>"
      ],
      "text/plain": [
       "<IPython.core.display.HTML object>"
      ]
     },
     "metadata": {},
     "output_type": "display_data"
    },
    {
     "name": "stdout",
     "output_type": "stream",
     "text": [
      "Ravenous Hydra\n",
      "Win Rate: 54%\n",
      "Uses: 130\n"
     ]
    },
    {
     "data": {
      "text/html": [
       "<img src=\"http://ddragon.leagueoflegends.com/cdn/10.22.1/img/item/3363.png\"/>"
      ],
      "text/plain": [
       "<IPython.core.display.HTML object>"
      ]
     },
     "metadata": {},
     "output_type": "display_data"
    },
    {
     "name": "stdout",
     "output_type": "stream",
     "text": [
      "Farsight Alteration\n",
      "Win Rate: 54%\n",
      "Uses: 13\n"
     ]
    },
    {
     "data": {
      "text/html": [
       "<img src=\"http://ddragon.leagueoflegends.com/cdn/10.22.1/img/item/3078.png\"/>"
      ],
      "text/plain": [
       "<IPython.core.display.HTML object>"
      ]
     },
     "metadata": {},
     "output_type": "display_data"
    },
    {
     "name": "stdout",
     "output_type": "stream",
     "text": [
      "Trinity Force\n",
      "Win Rate: 54%\n",
      "Uses: 175\n"
     ]
    },
    {
     "data": {
      "text/html": [
       "<img src=\"http://ddragon.leagueoflegends.com/cdn/10.22.1/img/item/2031.png\"/>"
      ],
      "text/plain": [
       "<IPython.core.display.HTML object>"
      ]
     },
     "metadata": {},
     "output_type": "display_data"
    },
    {
     "name": "stdout",
     "output_type": "stream",
     "text": [
      "Refillable Potion\n",
      "Win Rate: 53%\n",
      "Uses: 15\n"
     ]
    },
    {
     "data": {
      "text/html": [
       "<img src=\"http://ddragon.leagueoflegends.com/cdn/10.22.1/img/item/1055.png\"/>"
      ],
      "text/plain": [
       "<IPython.core.display.HTML object>"
      ]
     },
     "metadata": {},
     "output_type": "display_data"
    },
    {
     "name": "stdout",
     "output_type": "stream",
     "text": [
      "Doran's Blade\n",
      "Win Rate: 53%\n",
      "Uses: 119\n"
     ]
    },
    {
     "data": {
      "text/html": [
       "<img src=\"http://ddragon.leagueoflegends.com/cdn/10.22.1/img/item/3052.png\"/>"
      ],
      "text/plain": [
       "<IPython.core.display.HTML object>"
      ]
     },
     "metadata": {},
     "output_type": "display_data"
    },
    {
     "name": "stdout",
     "output_type": "stream",
     "text": [
      "Jaurim's Fist\n",
      "Win Rate: 53%\n",
      "Uses: 36\n"
     ]
    },
    {
     "data": {
      "text/html": [
       "<img src=\"http://ddragon.leagueoflegends.com/cdn/10.22.1/img/item/3053.png\"/>"
      ],
      "text/plain": [
       "<IPython.core.display.HTML object>"
      ]
     },
     "metadata": {},
     "output_type": "display_data"
    },
    {
     "name": "stdout",
     "output_type": "stream",
     "text": [
      "Sterak's Gage\n",
      "Win Rate: 52%\n",
      "Uses: 46\n"
     ]
    },
    {
     "data": {
      "text/html": [
       "<img src=\"http://ddragon.leagueoflegends.com/cdn/10.22.1/img/item/1028.png\"/>"
      ],
      "text/plain": [
       "<IPython.core.display.HTML object>"
      ]
     },
     "metadata": {},
     "output_type": "display_data"
    },
    {
     "name": "stdout",
     "output_type": "stream",
     "text": [
      "Ruby Crystal\n",
      "Win Rate: 52%\n",
      "Uses: 31\n"
     ]
    },
    {
     "data": {
      "text/html": [
       "<img src=\"http://ddragon.leagueoflegends.com/cdn/10.22.1/img/item/3047.png\"/>"
      ],
      "text/plain": [
       "<IPython.core.display.HTML object>"
      ]
     },
     "metadata": {},
     "output_type": "display_data"
    },
    {
     "name": "stdout",
     "output_type": "stream",
     "text": [
      "Ninja Tabi\n",
      "Win Rate: 51%\n",
      "Uses: 141\n"
     ]
    },
    {
     "data": {
      "text/html": [
       "<img src=\"http://ddragon.leagueoflegends.com/cdn/10.22.1/img/item/2422.png\"/>"
      ],
      "text/plain": [
       "<IPython.core.display.HTML object>"
      ]
     },
     "metadata": {},
     "output_type": "display_data"
    },
    {
     "name": "stdout",
     "output_type": "stream",
     "text": [
      "Slightly Magical Boots\n",
      "Win Rate: 50%\n",
      "Uses: 20\n"
     ]
    },
    {
     "data": {
      "text/html": [
       "<img src=\"http://ddragon.leagueoflegends.com/cdn/10.22.1/img/item/3076.png\"/>"
      ],
      "text/plain": [
       "<IPython.core.display.HTML object>"
      ]
     },
     "metadata": {},
     "output_type": "display_data"
    },
    {
     "name": "stdout",
     "output_type": "stream",
     "text": [
      "Bramble Vest\n",
      "Win Rate: 50%\n",
      "Uses: 2\n"
     ]
    },
    {
     "data": {
      "text/html": [
       "<img src=\"http://ddragon.leagueoflegends.com/cdn/10.22.1/img/item/3033.png\"/>"
      ],
      "text/plain": [
       "<IPython.core.display.HTML object>"
      ]
     },
     "metadata": {},
     "output_type": "display_data"
    },
    {
     "name": "stdout",
     "output_type": "stream",
     "text": [
      "Mortal Reminder\n",
      "Win Rate: 50%\n",
      "Uses: 4\n"
     ]
    },
    {
     "data": {
      "text/html": [
       "<img src=\"http://ddragon.leagueoflegends.com/cdn/10.22.1/img/item/1053.png\"/>"
      ],
      "text/plain": [
       "<IPython.core.display.HTML object>"
      ]
     },
     "metadata": {},
     "output_type": "display_data"
    },
    {
     "name": "stdout",
     "output_type": "stream",
     "text": [
      "Vampiric Scepter\n",
      "Win Rate: 50%\n",
      "Uses: 22\n"
     ]
    },
    {
     "data": {
      "text/html": [
       "<img src=\"http://ddragon.leagueoflegends.com/cdn/10.22.1/img/item/1036.png\"/>"
      ],
      "text/plain": [
       "<IPython.core.display.HTML object>"
      ]
     },
     "metadata": {},
     "output_type": "display_data"
    },
    {
     "name": "stdout",
     "output_type": "stream",
     "text": [
      "Long Sword\n",
      "Win Rate: 50%\n",
      "Uses: 16\n"
     ]
    },
    {
     "data": {
      "text/html": [
       "<img src=\"http://ddragon.leagueoflegends.com/cdn/10.22.1/img/item/2033.png\"/>"
      ],
      "text/plain": [
       "<IPython.core.display.HTML object>"
      ]
     },
     "metadata": {},
     "output_type": "display_data"
    },
    {
     "name": "stdout",
     "output_type": "stream",
     "text": [
      "Corrupting Potion\n",
      "Win Rate: 47%\n",
      "Uses: 19\n"
     ]
    },
    {
     "data": {
      "text/html": [
       "<img src=\"http://ddragon.leagueoflegends.com/cdn/10.22.1/img/item/3340.png\"/>"
      ],
      "text/plain": [
       "<IPython.core.display.HTML object>"
      ]
     },
     "metadata": {},
     "output_type": "display_data"
    },
    {
     "name": "stdout",
     "output_type": "stream",
     "text": [
      "Warding Totem (Trinket)\n",
      "Win Rate: 47%\n",
      "Uses: 131\n"
     ]
    },
    {
     "data": {
      "text/html": [
       "<img src=\"http://ddragon.leagueoflegends.com/cdn/10.22.1/img/item/3123.png\"/>"
      ],
      "text/plain": [
       "<IPython.core.display.HTML object>"
      ]
     },
     "metadata": {},
     "output_type": "display_data"
    },
    {
     "name": "stdout",
     "output_type": "stream",
     "text": [
      "Executioner's Calling\n",
      "Win Rate: 45%\n",
      "Uses: 56\n"
     ]
    },
    {
     "data": {
      "text/html": [
       "<img src=\"http://ddragon.leagueoflegends.com/cdn/10.22.1/img/item/3077.png\"/>"
      ],
      "text/plain": [
       "<IPython.core.display.HTML object>"
      ]
     },
     "metadata": {},
     "output_type": "display_data"
    },
    {
     "name": "stdout",
     "output_type": "stream",
     "text": [
      "Tiamat\n",
      "Win Rate: 40%\n",
      "Uses: 50\n"
     ]
    },
    {
     "data": {
      "text/html": [
       "<img src=\"http://ddragon.leagueoflegends.com/cdn/10.22.1/img/item/1037.png\"/>"
      ],
      "text/plain": [
       "<IPython.core.display.HTML object>"
      ]
     },
     "metadata": {},
     "output_type": "display_data"
    },
    {
     "name": "stdout",
     "output_type": "stream",
     "text": [
      "Pickaxe\n",
      "Win Rate: 38%\n",
      "Uses: 21\n"
     ]
    },
    {
     "data": {
      "text/html": [
       "<img src=\"http://ddragon.leagueoflegends.com/cdn/10.22.1/img/item/2420.png\"/>"
      ],
      "text/plain": [
       "<IPython.core.display.HTML object>"
      ]
     },
     "metadata": {},
     "output_type": "display_data"
    },
    {
     "name": "stdout",
     "output_type": "stream",
     "text": [
      "Stopwatch\n",
      "Win Rate: 33%\n",
      "Uses: 9\n"
     ]
    },
    {
     "data": {
      "text/html": [
       "<img src=\"http://ddragon.leagueoflegends.com/cdn/10.22.1/img/item/1054.png\"/>"
      ],
      "text/plain": [
       "<IPython.core.display.HTML object>"
      ]
     },
     "metadata": {},
     "output_type": "display_data"
    },
    {
     "name": "stdout",
     "output_type": "stream",
     "text": [
      "Doran's Shield\n",
      "Win Rate: 33%\n",
      "Uses: 6\n"
     ]
    },
    {
     "data": {
      "text/html": [
       "<img src=\"http://ddragon.leagueoflegends.com/cdn/10.22.1/img/item/1031.png\"/>"
      ],
      "text/plain": [
       "<IPython.core.display.HTML object>"
      ]
     },
     "metadata": {},
     "output_type": "display_data"
    },
    {
     "name": "stdout",
     "output_type": "stream",
     "text": [
      "Chain Vest\n",
      "Win Rate: 33%\n",
      "Uses: 3\n"
     ]
    },
    {
     "data": {
      "text/html": [
       "<img src=\"http://ddragon.leagueoflegends.com/cdn/10.22.1/img/item/1001.png\"/>"
      ],
      "text/plain": [
       "<IPython.core.display.HTML object>"
      ]
     },
     "metadata": {},
     "output_type": "display_data"
    },
    {
     "name": "stdout",
     "output_type": "stream",
     "text": [
      "Boots of Speed\n",
      "Win Rate: 25%\n",
      "Uses: 8\n"
     ]
    },
    {
     "data": {
      "text/html": [
       "<img src=\"http://ddragon.leagueoflegends.com/cdn/10.22.1/img/item/3101.png\"/>"
      ],
      "text/plain": [
       "<IPython.core.display.HTML object>"
      ]
     },
     "metadata": {},
     "output_type": "display_data"
    },
    {
     "name": "stdout",
     "output_type": "stream",
     "text": [
      "Stinger\n",
      "Win Rate: 17%\n",
      "Uses: 6\n"
     ]
    },
    {
     "data": {
      "text/html": [
       "<img src=\"http://ddragon.leagueoflegends.com/cdn/10.22.1/img/item/3044.png\"/>"
      ],
      "text/plain": [
       "<IPython.core.display.HTML object>"
      ]
     },
     "metadata": {},
     "output_type": "display_data"
    },
    {
     "name": "stdout",
     "output_type": "stream",
     "text": [
      "Phage\n",
      "Win Rate: 15%\n",
      "Uses: 13\n"
     ]
    },
    {
     "data": {
      "text/html": [
       "<img src=\"http://ddragon.leagueoflegends.com/cdn/10.22.1/img/item/3057.png\"/>"
      ],
      "text/plain": [
       "<IPython.core.display.HTML object>"
      ]
     },
     "metadata": {},
     "output_type": "display_data"
    },
    {
     "name": "stdout",
     "output_type": "stream",
     "text": [
      "Sheen\n",
      "Win Rate: 14%\n",
      "Uses: 14\n"
     ]
    },
    {
     "data": {
      "text/html": [
       "<img src=\"http://ddragon.leagueoflegends.com/cdn/10.22.1/img/item/1043.png\"/>"
      ],
      "text/plain": [
       "<IPython.core.display.HTML object>"
      ]
     },
     "metadata": {},
     "output_type": "display_data"
    },
    {
     "name": "stdout",
     "output_type": "stream",
     "text": [
      "Recurve Bow\n",
      "Win Rate: 0%\n",
      "Uses: 1\n"
     ]
    },
    {
     "data": {
      "text/html": [
       "<img src=\"http://ddragon.leagueoflegends.com/cdn/10.22.1/img/item/3748.png\"/>"
      ],
      "text/plain": [
       "<IPython.core.display.HTML object>"
      ]
     },
     "metadata": {},
     "output_type": "display_data"
    },
    {
     "name": "stdout",
     "output_type": "stream",
     "text": [
      "Titanic Hydra\n",
      "Win Rate: 0%\n",
      "Uses: 2\n"
     ]
    },
    {
     "data": {
      "text/html": [
       "<img src=\"http://ddragon.leagueoflegends.com/cdn/10.22.1/img/item/3105.png\"/>"
      ],
      "text/plain": [
       "<IPython.core.display.HTML object>"
      ]
     },
     "metadata": {},
     "output_type": "display_data"
    },
    {
     "name": "stdout",
     "output_type": "stream",
     "text": [
      "Aegis of the Legion\n",
      "Win Rate: 0%\n",
      "Uses: 1\n"
     ]
    },
    {
     "data": {
      "text/html": [
       "<img src=\"http://ddragon.leagueoflegends.com/cdn/10.22.1/img/item/1033.png\"/>"
      ],
      "text/plain": [
       "<IPython.core.display.HTML object>"
      ]
     },
     "metadata": {},
     "output_type": "display_data"
    },
    {
     "name": "stdout",
     "output_type": "stream",
     "text": [
      "Null-Magic Mantle\n",
      "Win Rate: 0%\n",
      "Uses: 3\n"
     ]
    },
    {
     "data": {
      "text/html": [
       "<img src=\"http://ddragon.leagueoflegends.com/cdn/10.22.1/img/item/1027.png\"/>"
      ],
      "text/plain": [
       "<IPython.core.display.HTML object>"
      ]
     },
     "metadata": {},
     "output_type": "display_data"
    },
    {
     "name": "stdout",
     "output_type": "stream",
     "text": [
      "Sapphire Crystal\n",
      "Win Rate: 0%\n",
      "Uses: 1\n"
     ]
    },
    {
     "data": {
      "text/html": [
       "<img src=\"http://ddragon.leagueoflegends.com/cdn/10.22.1/img/item/1042.png\"/>"
      ],
      "text/plain": [
       "<IPython.core.display.HTML object>"
      ]
     },
     "metadata": {},
     "output_type": "display_data"
    },
    {
     "name": "stdout",
     "output_type": "stream",
     "text": [
      "Dagger\n",
      "Win Rate: 0%\n",
      "Uses: 2\n"
     ]
    },
    {
     "data": {
      "text/html": [
       "<img src=\"http://ddragon.leagueoflegends.com/cdn/10.22.1/img/item/3006.png\"/>"
      ],
      "text/plain": [
       "<IPython.core.display.HTML object>"
      ]
     },
     "metadata": {},
     "output_type": "display_data"
    },
    {
     "name": "stdout",
     "output_type": "stream",
     "text": [
      "Berserker's Greaves\n",
      "Win Rate: 0%\n",
      "Uses: 1\n"
     ]
    },
    {
     "data": {
      "text/html": [
       "<img src=\"http://ddragon.leagueoflegends.com/cdn/10.22.1/img/item/3153.png\"/>"
      ],
      "text/plain": [
       "<IPython.core.display.HTML object>"
      ]
     },
     "metadata": {},
     "output_type": "display_data"
    },
    {
     "name": "stdout",
     "output_type": "stream",
     "text": [
      "Blade of the Ruined King\n",
      "Win Rate: 0%\n",
      "Uses: 1\n"
     ]
    }
   ],
   "source": [
    "show_item_winrates(\"Camille\", \"Fiora\", \"TOP\", match_df)"
   ]
  },
  {
   "cell_type": "code",
   "execution_count": null,
   "metadata": {},
   "outputs": [],
   "source": []
  }
 ],
 "metadata": {
  "kernelspec": {
   "display_name": "Python 3",
   "language": "python",
   "name": "python3"
  },
  "language_info": {
   "codemirror_mode": {
    "name": "ipython",
    "version": 3
   },
   "file_extension": ".py",
   "mimetype": "text/x-python",
   "name": "python",
   "nbconvert_exporter": "python",
   "pygments_lexer": "ipython3",
   "version": "3.7.7"
  }
 },
 "nbformat": 4,
 "nbformat_minor": 4
}
