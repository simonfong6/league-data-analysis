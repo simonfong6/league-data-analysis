{
 "cells": [
  {
   "cell_type": "code",
   "execution_count": 1,
   "metadata": {},
   "outputs": [],
   "source": [
    "%load_ext autoreload\n",
    "%autoreload 2"
   ]
  },
  {
   "cell_type": "code",
   "execution_count": 151,
   "metadata": {},
   "outputs": [],
   "source": [
    "import json\n",
    "\n",
    "import matplotlib.pyplot as plt\n",
    "import numpy as np\n",
    "import pandas as pd\n",
    "\n",
    "from tools import *\n",
    "from league_api import *"
   ]
  },
  {
   "cell_type": "code",
   "execution_count": 79,
   "metadata": {},
   "outputs": [
    {
     "name": "stdout",
     "output_type": "stream",
     "text": [
      "Saved to data/match_data_version1_subset_10000.pickle\n"
     ]
    }
   ],
   "source": [
    "create_subset('match_data_version1.pickle', 10000)"
   ]
  },
  {
   "cell_type": "code",
   "execution_count": 80,
   "metadata": {},
   "outputs": [],
   "source": [
    "match_df = load('match_data_version1_subset_10000.pickle')"
   ]
  },
  {
   "cell_type": "code",
   "execution_count": 33,
   "metadata": {},
   "outputs": [
    {
     "data": {
      "text/plain": [
       "0.5"
      ]
     },
     "execution_count": 33,
     "metadata": {},
     "output_type": "execute_result"
    }
   ],
   "source": [
    "winrate(\"Shen\", \"Teemo\", \"Adaptive Helm\", match_df)"
   ]
  },
  {
   "cell_type": "code",
   "execution_count": 111,
   "metadata": {},
   "outputs": [],
   "source": [
    "current_champion = \"Camille\"\n",
    "opponent_champion = \"Fiora\"\n",
    "lane = \"TOP\"\n",
    "f = filter_matching_lanes(convert_champion_name_to_id(current_champion), convert_champion_name_to_id(opponent_champion), lane, match_df)"
   ]
  },
  {
   "cell_type": "code",
   "execution_count": 126,
   "metadata": {},
   "outputs": [
    {
     "name": "stdout",
     "output_type": "stream",
     "text": [
      "{\n",
      "    \"3074\": 6,\n",
      "    \"2055\": 1,\n",
      "    \"3123\": 1,\n",
      "    \"3384\": 1,\n",
      "    \"3111\": 2,\n",
      "    \"3340\": 3,\n",
      "    \"3812\": 1,\n",
      "    \"3078\": 5,\n",
      "    \"3053\": 3,\n",
      "    \"3363\": 1,\n",
      "    \"3047\": 4,\n",
      "    \"1055\": 2,\n",
      "    \"3052\": 1,\n",
      "    \"3364\": 2,\n",
      "    \"3026\": 3,\n",
      "    \"1028\": 1,\n",
      "    \"3076\": 1\n",
      "}\n"
     ]
    }
   ],
   "source": [
    "reduced = reduce_participants(f, convert_champion_name_to_id(current_champion))\n",
    "reduced_keys = filter_participant_series_keys(reduced)\n",
    "\n",
    "from collections import Counter\n",
    "\n",
    "ITEM_KEYS = list(map(lambda num: f\"item{num}\", range(7)))\n",
    "\n",
    "item_wins = Counter()\n",
    "item_used = Counter()\n",
    "\n",
    "for participant in reduced_keys:\n",
    "    win = participant['win']\n",
    "    for item_key in ITEM_KEYS:\n",
    "        item_id = participant[item_key]\n",
    "        \n",
    "        # Skip empty item slots\n",
    "        if item_id == 0:\n",
    "            continue\n",
    "\n",
    "        item_used[item_id] += 1\n",
    "        \n",
    "        if win:\n",
    "            item_wins[item_id] += 1\n",
    "            \n",
    "display_dict(item_wins)"
   ]
  },
  {
   "cell_type": "code",
   "execution_count": 127,
   "metadata": {},
   "outputs": [
    {
     "name": "stdout",
     "output_type": "stream",
     "text": [
      "{\n",
      "    \"3074\": 9,\n",
      "    \"2055\": 1,\n",
      "    \"3123\": 2,\n",
      "    \"3384\": 1,\n",
      "    \"3111\": 2,\n",
      "    \"3340\": 6,\n",
      "    \"3047\": 6,\n",
      "    \"3078\": 8,\n",
      "    \"1055\": 6,\n",
      "    \"3812\": 1,\n",
      "    \"3053\": 3,\n",
      "    \"3363\": 1,\n",
      "    \"3052\": 3,\n",
      "    \"2422\": 1,\n",
      "    \"3364\": 2,\n",
      "    \"3026\": 3,\n",
      "    \"1028\": 1,\n",
      "    \"3076\": 1\n",
      "}\n"
     ]
    }
   ],
   "source": [
    "display_dict(item_used)"
   ]
  },
  {
   "cell_type": "code",
   "execution_count": 130,
   "metadata": {},
   "outputs": [
    {
     "name": "stdout",
     "output_type": "stream",
     "text": [
      "{\n",
      "    \"3074\": 0.6666666666666666,\n",
      "    \"2055\": 1.0,\n",
      "    \"3123\": 0.5,\n",
      "    \"3384\": 1.0,\n",
      "    \"3111\": 1.0,\n",
      "    \"3340\": 0.5,\n",
      "    \"3047\": 0.6666666666666666,\n",
      "    \"3078\": 0.625,\n",
      "    \"1055\": 0.3333333333333333,\n",
      "    \"3812\": 1.0,\n",
      "    \"3053\": 1.0,\n",
      "    \"3363\": 1.0,\n",
      "    \"3052\": 0.3333333333333333,\n",
      "    \"2422\": 0.0,\n",
      "    \"3364\": 1.0,\n",
      "    \"3026\": 1.0,\n",
      "    \"1028\": 1.0,\n",
      "    \"3076\": 1.0\n",
      "}\n"
     ]
    }
   ],
   "source": [
    "item_win_rates = Counter()\n",
    "for item_id, item_uses in item_used.items():\n",
    "    wins = item_wins[item_id]\n",
    "    win_rate = wins / item_uses\n",
    "    \n",
    "    item_win_rates[item_id] = win_rate\n",
    "\n",
    "display_dict(item_win_rates)"
   ]
  },
  {
   "cell_type": "code",
   "execution_count": 149,
   "metadata": {},
   "outputs": [
    {
     "data": {
      "text/html": [
       "<img src=\"http://ddragon.leagueoflegends.com/cdn/10.22.1/img/item/2055.png\"/>"
      ],
      "text/plain": [
       "<IPython.core.display.HTML object>"
      ]
     },
     "metadata": {},
     "output_type": "display_data"
    },
    {
     "name": "stdout",
     "output_type": "stream",
     "text": [
      "Control Ward\n",
      "Win Rate: 100%\n",
      "Uses: 1\n"
     ]
    },
    {
     "data": {
      "text/html": [
       "<img src=\"http://ddragon.leagueoflegends.com/cdn/10.22.1/img/item/3384.png\"/>"
      ],
      "text/plain": [
       "<IPython.core.display.HTML object>"
      ]
     },
     "metadata": {},
     "output_type": "display_data"
    },
    {
     "name": "stdout",
     "output_type": "stream",
     "text": [
      "Trinity Fusion\n",
      "Win Rate: 100%\n",
      "Uses: 1\n"
     ]
    },
    {
     "data": {
      "text/html": [
       "<img src=\"http://ddragon.leagueoflegends.com/cdn/10.22.1/img/item/3111.png\"/>"
      ],
      "text/plain": [
       "<IPython.core.display.HTML object>"
      ]
     },
     "metadata": {},
     "output_type": "display_data"
    },
    {
     "name": "stdout",
     "output_type": "stream",
     "text": [
      "Mercury's Treads\n",
      "Win Rate: 100%\n",
      "Uses: 2\n"
     ]
    },
    {
     "data": {
      "text/html": [
       "<img src=\"http://ddragon.leagueoflegends.com/cdn/10.22.1/img/item/3812.png\"/>"
      ],
      "text/plain": [
       "<IPython.core.display.HTML object>"
      ]
     },
     "metadata": {},
     "output_type": "display_data"
    },
    {
     "name": "stdout",
     "output_type": "stream",
     "text": [
      "Death's Dance\n",
      "Win Rate: 100%\n",
      "Uses: 1\n"
     ]
    },
    {
     "data": {
      "text/html": [
       "<img src=\"http://ddragon.leagueoflegends.com/cdn/10.22.1/img/item/3053.png\"/>"
      ],
      "text/plain": [
       "<IPython.core.display.HTML object>"
      ]
     },
     "metadata": {},
     "output_type": "display_data"
    },
    {
     "name": "stdout",
     "output_type": "stream",
     "text": [
      "Sterak's Gage\n",
      "Win Rate: 100%\n",
      "Uses: 3\n"
     ]
    },
    {
     "data": {
      "text/html": [
       "<img src=\"http://ddragon.leagueoflegends.com/cdn/10.22.1/img/item/3363.png\"/>"
      ],
      "text/plain": [
       "<IPython.core.display.HTML object>"
      ]
     },
     "metadata": {},
     "output_type": "display_data"
    },
    {
     "name": "stdout",
     "output_type": "stream",
     "text": [
      "Farsight Alteration\n",
      "Win Rate: 100%\n",
      "Uses: 1\n"
     ]
    },
    {
     "data": {
      "text/html": [
       "<img src=\"http://ddragon.leagueoflegends.com/cdn/10.22.1/img/item/3364.png\"/>"
      ],
      "text/plain": [
       "<IPython.core.display.HTML object>"
      ]
     },
     "metadata": {},
     "output_type": "display_data"
    },
    {
     "name": "stdout",
     "output_type": "stream",
     "text": [
      "Oracle Lens\n",
      "Win Rate: 100%\n",
      "Uses: 2\n"
     ]
    },
    {
     "data": {
      "text/html": [
       "<img src=\"http://ddragon.leagueoflegends.com/cdn/10.22.1/img/item/3026.png\"/>"
      ],
      "text/plain": [
       "<IPython.core.display.HTML object>"
      ]
     },
     "metadata": {},
     "output_type": "display_data"
    },
    {
     "name": "stdout",
     "output_type": "stream",
     "text": [
      "Guardian Angel\n",
      "Win Rate: 100%\n",
      "Uses: 3\n"
     ]
    },
    {
     "data": {
      "text/html": [
       "<img src=\"http://ddragon.leagueoflegends.com/cdn/10.22.1/img/item/1028.png\"/>"
      ],
      "text/plain": [
       "<IPython.core.display.HTML object>"
      ]
     },
     "metadata": {},
     "output_type": "display_data"
    },
    {
     "name": "stdout",
     "output_type": "stream",
     "text": [
      "Ruby Crystal\n",
      "Win Rate: 100%\n",
      "Uses: 1\n"
     ]
    },
    {
     "data": {
      "text/html": [
       "<img src=\"http://ddragon.leagueoflegends.com/cdn/10.22.1/img/item/3076.png\"/>"
      ],
      "text/plain": [
       "<IPython.core.display.HTML object>"
      ]
     },
     "metadata": {},
     "output_type": "display_data"
    },
    {
     "name": "stdout",
     "output_type": "stream",
     "text": [
      "Bramble Vest\n",
      "Win Rate: 100%\n",
      "Uses: 1\n"
     ]
    },
    {
     "data": {
      "text/html": [
       "<img src=\"http://ddragon.leagueoflegends.com/cdn/10.22.1/img/item/3074.png\"/>"
      ],
      "text/plain": [
       "<IPython.core.display.HTML object>"
      ]
     },
     "metadata": {},
     "output_type": "display_data"
    },
    {
     "name": "stdout",
     "output_type": "stream",
     "text": [
      "Ravenous Hydra\n",
      "Win Rate: 67%\n",
      "Uses: 9\n"
     ]
    },
    {
     "data": {
      "text/html": [
       "<img src=\"http://ddragon.leagueoflegends.com/cdn/10.22.1/img/item/3047.png\"/>"
      ],
      "text/plain": [
       "<IPython.core.display.HTML object>"
      ]
     },
     "metadata": {},
     "output_type": "display_data"
    },
    {
     "name": "stdout",
     "output_type": "stream",
     "text": [
      "Ninja Tabi\n",
      "Win Rate: 67%\n",
      "Uses: 6\n"
     ]
    },
    {
     "data": {
      "text/html": [
       "<img src=\"http://ddragon.leagueoflegends.com/cdn/10.22.1/img/item/3078.png\"/>"
      ],
      "text/plain": [
       "<IPython.core.display.HTML object>"
      ]
     },
     "metadata": {},
     "output_type": "display_data"
    },
    {
     "name": "stdout",
     "output_type": "stream",
     "text": [
      "Trinity Force\n",
      "Win Rate: 62%\n",
      "Uses: 8\n"
     ]
    },
    {
     "data": {
      "text/html": [
       "<img src=\"http://ddragon.leagueoflegends.com/cdn/10.22.1/img/item/3123.png\"/>"
      ],
      "text/plain": [
       "<IPython.core.display.HTML object>"
      ]
     },
     "metadata": {},
     "output_type": "display_data"
    },
    {
     "name": "stdout",
     "output_type": "stream",
     "text": [
      "Executioner's Calling\n",
      "Win Rate: 50%\n",
      "Uses: 2\n"
     ]
    },
    {
     "data": {
      "text/html": [
       "<img src=\"http://ddragon.leagueoflegends.com/cdn/10.22.1/img/item/3340.png\"/>"
      ],
      "text/plain": [
       "<IPython.core.display.HTML object>"
      ]
     },
     "metadata": {},
     "output_type": "display_data"
    },
    {
     "name": "stdout",
     "output_type": "stream",
     "text": [
      "Warding Totem (Trinket)\n",
      "Win Rate: 50%\n",
      "Uses: 6\n"
     ]
    },
    {
     "data": {
      "text/html": [
       "<img src=\"http://ddragon.leagueoflegends.com/cdn/10.22.1/img/item/1055.png\"/>"
      ],
      "text/plain": [
       "<IPython.core.display.HTML object>"
      ]
     },
     "metadata": {},
     "output_type": "display_data"
    },
    {
     "name": "stdout",
     "output_type": "stream",
     "text": [
      "Doran's Blade\n",
      "Win Rate: 33%\n",
      "Uses: 6\n"
     ]
    },
    {
     "data": {
      "text/html": [
       "<img src=\"http://ddragon.leagueoflegends.com/cdn/10.22.1/img/item/3052.png\"/>"
      ],
      "text/plain": [
       "<IPython.core.display.HTML object>"
      ]
     },
     "metadata": {},
     "output_type": "display_data"
    },
    {
     "name": "stdout",
     "output_type": "stream",
     "text": [
      "Jaurim's Fist\n",
      "Win Rate: 33%\n",
      "Uses: 3\n"
     ]
    },
    {
     "data": {
      "text/html": [
       "<img src=\"http://ddragon.leagueoflegends.com/cdn/10.22.1/img/item/2422.png\"/>"
      ],
      "text/plain": [
       "<IPython.core.display.HTML object>"
      ]
     },
     "metadata": {},
     "output_type": "display_data"
    },
    {
     "name": "stdout",
     "output_type": "stream",
     "text": [
      "Slightly Magical Boots\n",
      "Win Rate: 0%\n",
      "Uses: 1\n"
     ]
    }
   ],
   "source": [
    "for item_id, win_rate in item_win_rates.most_common():\n",
    "    uses = item_used[item_id]\n",
    "    display_item_with_winrate(item_id, win_rate, uses)"
   ]
  },
  {
   "cell_type": "code",
   "execution_count": 152,
   "metadata": {},
   "outputs": [
    {
     "data": {
      "text/html": [
       "<img src=\"http://ddragon.leagueoflegends.com/cdn/10.22.1/img/item/2055.png\"/>"
      ],
      "text/plain": [
       "<IPython.core.display.HTML object>"
      ]
     },
     "metadata": {},
     "output_type": "display_data"
    },
    {
     "name": "stdout",
     "output_type": "stream",
     "text": [
      "Control Ward\n",
      "Win Rate: 100%\n",
      "Uses: 1\n"
     ]
    },
    {
     "data": {
      "text/html": [
       "<img src=\"http://ddragon.leagueoflegends.com/cdn/10.22.1/img/item/3384.png\"/>"
      ],
      "text/plain": [
       "<IPython.core.display.HTML object>"
      ]
     },
     "metadata": {},
     "output_type": "display_data"
    },
    {
     "name": "stdout",
     "output_type": "stream",
     "text": [
      "Trinity Fusion\n",
      "Win Rate: 100%\n",
      "Uses: 1\n"
     ]
    },
    {
     "data": {
      "text/html": [
       "<img src=\"http://ddragon.leagueoflegends.com/cdn/10.22.1/img/item/3111.png\"/>"
      ],
      "text/plain": [
       "<IPython.core.display.HTML object>"
      ]
     },
     "metadata": {},
     "output_type": "display_data"
    },
    {
     "name": "stdout",
     "output_type": "stream",
     "text": [
      "Mercury's Treads\n",
      "Win Rate: 100%\n",
      "Uses: 2\n"
     ]
    },
    {
     "data": {
      "text/html": [
       "<img src=\"http://ddragon.leagueoflegends.com/cdn/10.22.1/img/item/3812.png\"/>"
      ],
      "text/plain": [
       "<IPython.core.display.HTML object>"
      ]
     },
     "metadata": {},
     "output_type": "display_data"
    },
    {
     "name": "stdout",
     "output_type": "stream",
     "text": [
      "Death's Dance\n",
      "Win Rate: 100%\n",
      "Uses: 1\n"
     ]
    },
    {
     "data": {
      "text/html": [
       "<img src=\"http://ddragon.leagueoflegends.com/cdn/10.22.1/img/item/3053.png\"/>"
      ],
      "text/plain": [
       "<IPython.core.display.HTML object>"
      ]
     },
     "metadata": {},
     "output_type": "display_data"
    },
    {
     "name": "stdout",
     "output_type": "stream",
     "text": [
      "Sterak's Gage\n",
      "Win Rate: 100%\n",
      "Uses: 3\n"
     ]
    },
    {
     "data": {
      "text/html": [
       "<img src=\"http://ddragon.leagueoflegends.com/cdn/10.22.1/img/item/3363.png\"/>"
      ],
      "text/plain": [
       "<IPython.core.display.HTML object>"
      ]
     },
     "metadata": {},
     "output_type": "display_data"
    },
    {
     "name": "stdout",
     "output_type": "stream",
     "text": [
      "Farsight Alteration\n",
      "Win Rate: 100%\n",
      "Uses: 1\n"
     ]
    },
    {
     "data": {
      "text/html": [
       "<img src=\"http://ddragon.leagueoflegends.com/cdn/10.22.1/img/item/3364.png\"/>"
      ],
      "text/plain": [
       "<IPython.core.display.HTML object>"
      ]
     },
     "metadata": {},
     "output_type": "display_data"
    },
    {
     "name": "stdout",
     "output_type": "stream",
     "text": [
      "Oracle Lens\n",
      "Win Rate: 100%\n",
      "Uses: 2\n"
     ]
    },
    {
     "data": {
      "text/html": [
       "<img src=\"http://ddragon.leagueoflegends.com/cdn/10.22.1/img/item/3026.png\"/>"
      ],
      "text/plain": [
       "<IPython.core.display.HTML object>"
      ]
     },
     "metadata": {},
     "output_type": "display_data"
    },
    {
     "name": "stdout",
     "output_type": "stream",
     "text": [
      "Guardian Angel\n",
      "Win Rate: 100%\n",
      "Uses: 3\n"
     ]
    },
    {
     "data": {
      "text/html": [
       "<img src=\"http://ddragon.leagueoflegends.com/cdn/10.22.1/img/item/1028.png\"/>"
      ],
      "text/plain": [
       "<IPython.core.display.HTML object>"
      ]
     },
     "metadata": {},
     "output_type": "display_data"
    },
    {
     "name": "stdout",
     "output_type": "stream",
     "text": [
      "Ruby Crystal\n",
      "Win Rate: 100%\n",
      "Uses: 1\n"
     ]
    },
    {
     "data": {
      "text/html": [
       "<img src=\"http://ddragon.leagueoflegends.com/cdn/10.22.1/img/item/3076.png\"/>"
      ],
      "text/plain": [
       "<IPython.core.display.HTML object>"
      ]
     },
     "metadata": {},
     "output_type": "display_data"
    },
    {
     "name": "stdout",
     "output_type": "stream",
     "text": [
      "Bramble Vest\n",
      "Win Rate: 100%\n",
      "Uses: 1\n"
     ]
    },
    {
     "data": {
      "text/html": [
       "<img src=\"http://ddragon.leagueoflegends.com/cdn/10.22.1/img/item/3074.png\"/>"
      ],
      "text/plain": [
       "<IPython.core.display.HTML object>"
      ]
     },
     "metadata": {},
     "output_type": "display_data"
    },
    {
     "name": "stdout",
     "output_type": "stream",
     "text": [
      "Ravenous Hydra\n",
      "Win Rate: 67%\n",
      "Uses: 9\n"
     ]
    },
    {
     "data": {
      "text/html": [
       "<img src=\"http://ddragon.leagueoflegends.com/cdn/10.22.1/img/item/3047.png\"/>"
      ],
      "text/plain": [
       "<IPython.core.display.HTML object>"
      ]
     },
     "metadata": {},
     "output_type": "display_data"
    },
    {
     "name": "stdout",
     "output_type": "stream",
     "text": [
      "Ninja Tabi\n",
      "Win Rate: 67%\n",
      "Uses: 6\n"
     ]
    },
    {
     "data": {
      "text/html": [
       "<img src=\"http://ddragon.leagueoflegends.com/cdn/10.22.1/img/item/3078.png\"/>"
      ],
      "text/plain": [
       "<IPython.core.display.HTML object>"
      ]
     },
     "metadata": {},
     "output_type": "display_data"
    },
    {
     "name": "stdout",
     "output_type": "stream",
     "text": [
      "Trinity Force\n",
      "Win Rate: 62%\n",
      "Uses: 8\n"
     ]
    },
    {
     "data": {
      "text/html": [
       "<img src=\"http://ddragon.leagueoflegends.com/cdn/10.22.1/img/item/3123.png\"/>"
      ],
      "text/plain": [
       "<IPython.core.display.HTML object>"
      ]
     },
     "metadata": {},
     "output_type": "display_data"
    },
    {
     "name": "stdout",
     "output_type": "stream",
     "text": [
      "Executioner's Calling\n",
      "Win Rate: 50%\n",
      "Uses: 2\n"
     ]
    },
    {
     "data": {
      "text/html": [
       "<img src=\"http://ddragon.leagueoflegends.com/cdn/10.22.1/img/item/3340.png\"/>"
      ],
      "text/plain": [
       "<IPython.core.display.HTML object>"
      ]
     },
     "metadata": {},
     "output_type": "display_data"
    },
    {
     "name": "stdout",
     "output_type": "stream",
     "text": [
      "Warding Totem (Trinket)\n",
      "Win Rate: 50%\n",
      "Uses: 6\n"
     ]
    },
    {
     "data": {
      "text/html": [
       "<img src=\"http://ddragon.leagueoflegends.com/cdn/10.22.1/img/item/1055.png\"/>"
      ],
      "text/plain": [
       "<IPython.core.display.HTML object>"
      ]
     },
     "metadata": {},
     "output_type": "display_data"
    },
    {
     "name": "stdout",
     "output_type": "stream",
     "text": [
      "Doran's Blade\n",
      "Win Rate: 33%\n",
      "Uses: 6\n"
     ]
    },
    {
     "data": {
      "text/html": [
       "<img src=\"http://ddragon.leagueoflegends.com/cdn/10.22.1/img/item/3052.png\"/>"
      ],
      "text/plain": [
       "<IPython.core.display.HTML object>"
      ]
     },
     "metadata": {},
     "output_type": "display_data"
    },
    {
     "name": "stdout",
     "output_type": "stream",
     "text": [
      "Jaurim's Fist\n",
      "Win Rate: 33%\n",
      "Uses: 3\n"
     ]
    },
    {
     "data": {
      "text/html": [
       "<img src=\"http://ddragon.leagueoflegends.com/cdn/10.22.1/img/item/2422.png\"/>"
      ],
      "text/plain": [
       "<IPython.core.display.HTML object>"
      ]
     },
     "metadata": {},
     "output_type": "display_data"
    },
    {
     "name": "stdout",
     "output_type": "stream",
     "text": [
      "Slightly Magical Boots\n",
      "Win Rate: 0%\n",
      "Uses: 1\n"
     ]
    }
   ],
   "source": [
    "display_items_by_winrate(reduced_keys)"
   ]
  },
  {
   "cell_type": "code",
   "execution_count": null,
   "metadata": {},
   "outputs": [],
   "source": []
  }
 ],
 "metadata": {
  "kernelspec": {
   "display_name": "Python 3",
   "language": "python",
   "name": "python3"
  },
  "language_info": {
   "codemirror_mode": {
    "name": "ipython",
    "version": 3
   },
   "file_extension": ".py",
   "mimetype": "text/x-python",
   "name": "python",
   "nbconvert_exporter": "python",
   "pygments_lexer": "ipython3",
   "version": "3.7.7"
  }
 },
 "nbformat": 4,
 "nbformat_minor": 4
}
