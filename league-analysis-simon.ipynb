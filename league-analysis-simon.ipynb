{
 "cells": [
  {
   "cell_type": "code",
   "execution_count": 1,
   "metadata": {},
   "outputs": [],
   "source": [
    "%load_ext autoreload\n",
    "%autoreload 2"
   ]
  },
  {
   "cell_type": "code",
   "execution_count": 154,
   "metadata": {},
   "outputs": [],
   "source": [
    "import json\n",
    "\n",
    "import matplotlib.pyplot as plt\n",
    "import numpy as np\n",
    "import pandas as pd\n",
    "\n",
    "from tools import *\n",
    "from league_api import *"
   ]
  },
  {
   "cell_type": "code",
   "execution_count": 79,
   "metadata": {},
   "outputs": [
    {
     "name": "stdout",
     "output_type": "stream",
     "text": [
      "Saved to data/match_data_version1_subset_10000.pickle\n"
     ]
    }
   ],
   "source": [
    "create_subset('match_data_version1.pickle', 10000)"
   ]
  },
  {
   "cell_type": "code",
   "execution_count": 80,
   "metadata": {},
   "outputs": [],
   "source": [
    "match_df = load('match_data_version1_subset_10000.pickle')"
   ]
  },
  {
   "cell_type": "code",
   "execution_count": 162,
   "metadata": {
    "scrolled": false
   },
   "outputs": [
    {
     "data": {
      "text/html": [
       "<img src=\"http://ddragon.leagueoflegends.com/cdn/10.22.1/img/item/2055.png\"/>"
      ],
      "text/plain": [
       "<IPython.core.display.HTML object>"
      ]
     },
     "metadata": {},
     "output_type": "display_data"
    },
    {
     "name": "stdout",
     "output_type": "stream",
     "text": [
      "Control Ward\n",
      "Win Rate: 100%\n",
      "Uses: 1\n"
     ]
    },
    {
     "data": {
      "text/html": [
       "<img src=\"http://ddragon.leagueoflegends.com/cdn/10.22.1/img/item/3384.png\"/>"
      ],
      "text/plain": [
       "<IPython.core.display.HTML object>"
      ]
     },
     "metadata": {},
     "output_type": "display_data"
    },
    {
     "name": "stdout",
     "output_type": "stream",
     "text": [
      "Trinity Fusion\n",
      "Win Rate: 100%\n",
      "Uses: 1\n"
     ]
    },
    {
     "data": {
      "text/html": [
       "<img src=\"http://ddragon.leagueoflegends.com/cdn/10.22.1/img/item/3111.png\"/>"
      ],
      "text/plain": [
       "<IPython.core.display.HTML object>"
      ]
     },
     "metadata": {},
     "output_type": "display_data"
    },
    {
     "name": "stdout",
     "output_type": "stream",
     "text": [
      "Mercury's Treads\n",
      "Win Rate: 100%\n",
      "Uses: 2\n"
     ]
    },
    {
     "data": {
      "text/html": [
       "<img src=\"http://ddragon.leagueoflegends.com/cdn/10.22.1/img/item/3812.png\"/>"
      ],
      "text/plain": [
       "<IPython.core.display.HTML object>"
      ]
     },
     "metadata": {},
     "output_type": "display_data"
    },
    {
     "name": "stdout",
     "output_type": "stream",
     "text": [
      "Death's Dance\n",
      "Win Rate: 100%\n",
      "Uses: 1\n"
     ]
    },
    {
     "data": {
      "text/html": [
       "<img src=\"http://ddragon.leagueoflegends.com/cdn/10.22.1/img/item/3053.png\"/>"
      ],
      "text/plain": [
       "<IPython.core.display.HTML object>"
      ]
     },
     "metadata": {},
     "output_type": "display_data"
    },
    {
     "name": "stdout",
     "output_type": "stream",
     "text": [
      "Sterak's Gage\n",
      "Win Rate: 100%\n",
      "Uses: 3\n"
     ]
    },
    {
     "data": {
      "text/html": [
       "<img src=\"http://ddragon.leagueoflegends.com/cdn/10.22.1/img/item/3363.png\"/>"
      ],
      "text/plain": [
       "<IPython.core.display.HTML object>"
      ]
     },
     "metadata": {},
     "output_type": "display_data"
    },
    {
     "name": "stdout",
     "output_type": "stream",
     "text": [
      "Farsight Alteration\n",
      "Win Rate: 100%\n",
      "Uses: 1\n"
     ]
    },
    {
     "data": {
      "text/html": [
       "<img src=\"http://ddragon.leagueoflegends.com/cdn/10.22.1/img/item/3364.png\"/>"
      ],
      "text/plain": [
       "<IPython.core.display.HTML object>"
      ]
     },
     "metadata": {},
     "output_type": "display_data"
    },
    {
     "name": "stdout",
     "output_type": "stream",
     "text": [
      "Oracle Lens\n",
      "Win Rate: 100%\n",
      "Uses: 2\n"
     ]
    },
    {
     "data": {
      "text/html": [
       "<img src=\"http://ddragon.leagueoflegends.com/cdn/10.22.1/img/item/3026.png\"/>"
      ],
      "text/plain": [
       "<IPython.core.display.HTML object>"
      ]
     },
     "metadata": {},
     "output_type": "display_data"
    },
    {
     "name": "stdout",
     "output_type": "stream",
     "text": [
      "Guardian Angel\n",
      "Win Rate: 100%\n",
      "Uses: 3\n"
     ]
    },
    {
     "data": {
      "text/html": [
       "<img src=\"http://ddragon.leagueoflegends.com/cdn/10.22.1/img/item/1028.png\"/>"
      ],
      "text/plain": [
       "<IPython.core.display.HTML object>"
      ]
     },
     "metadata": {},
     "output_type": "display_data"
    },
    {
     "name": "stdout",
     "output_type": "stream",
     "text": [
      "Ruby Crystal\n",
      "Win Rate: 100%\n",
      "Uses: 1\n"
     ]
    },
    {
     "data": {
      "text/html": [
       "<img src=\"http://ddragon.leagueoflegends.com/cdn/10.22.1/img/item/3076.png\"/>"
      ],
      "text/plain": [
       "<IPython.core.display.HTML object>"
      ]
     },
     "metadata": {},
     "output_type": "display_data"
    },
    {
     "name": "stdout",
     "output_type": "stream",
     "text": [
      "Bramble Vest\n",
      "Win Rate: 100%\n",
      "Uses: 1\n"
     ]
    },
    {
     "data": {
      "text/html": [
       "<img src=\"http://ddragon.leagueoflegends.com/cdn/10.22.1/img/item/3074.png\"/>"
      ],
      "text/plain": [
       "<IPython.core.display.HTML object>"
      ]
     },
     "metadata": {},
     "output_type": "display_data"
    },
    {
     "name": "stdout",
     "output_type": "stream",
     "text": [
      "Ravenous Hydra\n",
      "Win Rate: 67%\n",
      "Uses: 9\n"
     ]
    },
    {
     "data": {
      "text/html": [
       "<img src=\"http://ddragon.leagueoflegends.com/cdn/10.22.1/img/item/3047.png\"/>"
      ],
      "text/plain": [
       "<IPython.core.display.HTML object>"
      ]
     },
     "metadata": {},
     "output_type": "display_data"
    },
    {
     "name": "stdout",
     "output_type": "stream",
     "text": [
      "Ninja Tabi\n",
      "Win Rate: 67%\n",
      "Uses: 6\n"
     ]
    },
    {
     "data": {
      "text/html": [
       "<img src=\"http://ddragon.leagueoflegends.com/cdn/10.22.1/img/item/3078.png\"/>"
      ],
      "text/plain": [
       "<IPython.core.display.HTML object>"
      ]
     },
     "metadata": {},
     "output_type": "display_data"
    },
    {
     "name": "stdout",
     "output_type": "stream",
     "text": [
      "Trinity Force\n",
      "Win Rate: 62%\n",
      "Uses: 8\n"
     ]
    },
    {
     "data": {
      "text/html": [
       "<img src=\"http://ddragon.leagueoflegends.com/cdn/10.22.1/img/item/3123.png\"/>"
      ],
      "text/plain": [
       "<IPython.core.display.HTML object>"
      ]
     },
     "metadata": {},
     "output_type": "display_data"
    },
    {
     "name": "stdout",
     "output_type": "stream",
     "text": [
      "Executioner's Calling\n",
      "Win Rate: 50%\n",
      "Uses: 2\n"
     ]
    },
    {
     "data": {
      "text/html": [
       "<img src=\"http://ddragon.leagueoflegends.com/cdn/10.22.1/img/item/3340.png\"/>"
      ],
      "text/plain": [
       "<IPython.core.display.HTML object>"
      ]
     },
     "metadata": {},
     "output_type": "display_data"
    },
    {
     "name": "stdout",
     "output_type": "stream",
     "text": [
      "Warding Totem (Trinket)\n",
      "Win Rate: 50%\n",
      "Uses: 6\n"
     ]
    },
    {
     "data": {
      "text/html": [
       "<img src=\"http://ddragon.leagueoflegends.com/cdn/10.22.1/img/item/1055.png\"/>"
      ],
      "text/plain": [
       "<IPython.core.display.HTML object>"
      ]
     },
     "metadata": {},
     "output_type": "display_data"
    },
    {
     "name": "stdout",
     "output_type": "stream",
     "text": [
      "Doran's Blade\n",
      "Win Rate: 33%\n",
      "Uses: 6\n"
     ]
    },
    {
     "data": {
      "text/html": [
       "<img src=\"http://ddragon.leagueoflegends.com/cdn/10.22.1/img/item/3052.png\"/>"
      ],
      "text/plain": [
       "<IPython.core.display.HTML object>"
      ]
     },
     "metadata": {},
     "output_type": "display_data"
    },
    {
     "name": "stdout",
     "output_type": "stream",
     "text": [
      "Jaurim's Fist\n",
      "Win Rate: 33%\n",
      "Uses: 3\n"
     ]
    },
    {
     "data": {
      "text/html": [
       "<img src=\"http://ddragon.leagueoflegends.com/cdn/10.22.1/img/item/2422.png\"/>"
      ],
      "text/plain": [
       "<IPython.core.display.HTML object>"
      ]
     },
     "metadata": {},
     "output_type": "display_data"
    },
    {
     "name": "stdout",
     "output_type": "stream",
     "text": [
      "Slightly Magical Boots\n",
      "Win Rate: 0%\n",
      "Uses: 1\n"
     ]
    }
   ],
   "source": [
    "show_item_winrates(\"Camille\", \"Fiora\", \"TOP\", match_df)"
   ]
  },
  {
   "cell_type": "code",
   "execution_count": null,
   "metadata": {},
   "outputs": [],
   "source": []
  }
 ],
 "metadata": {
  "kernelspec": {
   "display_name": "Python 3",
   "language": "python",
   "name": "python3"
  },
  "language_info": {
   "codemirror_mode": {
    "name": "ipython",
    "version": 3
   },
   "file_extension": ".py",
   "mimetype": "text/x-python",
   "name": "python",
   "nbconvert_exporter": "python",
   "pygments_lexer": "ipython3",
   "version": "3.7.7"
  }
 },
 "nbformat": 4,
 "nbformat_minor": 4
}
