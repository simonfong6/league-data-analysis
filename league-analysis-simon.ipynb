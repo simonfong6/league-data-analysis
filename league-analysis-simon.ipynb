{
 "cells": [
  {
   "cell_type": "code",
   "execution_count": 1,
   "metadata": {},
   "outputs": [],
   "source": [
    "%load_ext autoreload\n",
    "%autoreload 2"
   ]
  },
  {
   "cell_type": "code",
   "execution_count": 52,
   "metadata": {},
   "outputs": [],
   "source": [
    "import json\n",
    "\n",
    "import matplotlib.pyplot as plt\n",
    "import numpy as np\n",
    "import pandas as pd\n",
    "\n",
    "from tools import *\n",
    "from league_api import *"
   ]
  },
  {
   "cell_type": "code",
   "execution_count": 15,
   "metadata": {},
   "outputs": [
    {
     "data": {
      "text/plain": [
       "['.keep',\n",
       " 'archive.zip',\n",
       " 'challenger_match.csv',\n",
       " 'challenger_match_V2.csv',\n",
       " 'match_data_version1.csv',\n",
       " 'match_data_version1.pickle',\n",
       " 'match_data_version1_subset_1000.pickle',\n",
       " 'match_data_version2.pickle',\n",
       " 'match_loser_data_version1.csv',\n",
       " 'match_loser_data_version1.pickle',\n",
       " 'match_winner_data_version1.csv',\n",
       " 'match_winner_data_version1.pickle']"
      ]
     },
     "execution_count": 15,
     "metadata": {},
     "output_type": "execute_result"
    }
   ],
   "source": [
    "list_data_files()"
   ]
  },
  {
   "cell_type": "code",
   "execution_count": 79,
   "metadata": {},
   "outputs": [
    {
     "name": "stdout",
     "output_type": "stream",
     "text": [
      "Saved to data/match_data_version1_subset_10000.pickle\n"
     ]
    }
   ],
   "source": [
    "create_subset('match_data_version1.pickle', 10000)"
   ]
  },
  {
   "cell_type": "code",
   "execution_count": 80,
   "metadata": {},
   "outputs": [],
   "source": [
    "match_df = load('match_data_version1_subset_10000.pickle')"
   ]
  },
  {
   "cell_type": "code",
   "execution_count": 60,
   "metadata": {},
   "outputs": [],
   "source": [
    "participants = match_df['participants']"
   ]
  },
  {
   "cell_type": "code",
   "execution_count": 62,
   "metadata": {},
   "outputs": [],
   "source": [
    "game = participants[0]\n",
    "player = game[0]"
   ]
  },
  {
   "cell_type": "code",
   "execution_count": 64,
   "metadata": {},
   "outputs": [
    {
     "name": "stdout",
     "output_type": "stream",
     "text": [
      "Leblanc\n"
     ]
    },
    {
     "data": {
      "text/html": [
       "<img src=\"http://ddragon.leagueoflegends.com/cdn/10.22.1/img/champion/Leblanc.png\"/>"
      ],
      "text/plain": [
       "<IPython.core.display.HTML object>"
      ]
     },
     "metadata": {},
     "output_type": "display_data"
    },
    {
     "name": "stdout",
     "output_type": "stream",
     "text": [
      "2033\n",
      "Corrupting Potion\n"
     ]
    },
    {
     "data": {
      "text/html": [
       "<img src=\"http://ddragon.leagueoflegends.com/cdn/10.22.1/img/item/2033.png\"/>"
      ],
      "text/plain": [
       "<IPython.core.display.HTML object>"
      ]
     },
     "metadata": {},
     "output_type": "display_data"
    },
    {
     "name": "stdout",
     "output_type": "stream",
     "text": [
      "3285\n",
      "Luden's Echo\n"
     ]
    },
    {
     "data": {
      "text/html": [
       "<img src=\"http://ddragon.leagueoflegends.com/cdn/10.22.1/img/item/3285.png\"/>"
      ],
      "text/plain": [
       "<IPython.core.display.HTML object>"
      ]
     },
     "metadata": {},
     "output_type": "display_data"
    },
    {
     "name": "stdout",
     "output_type": "stream",
     "text": [
      "3108\n",
      "Fiendish Codex\n"
     ]
    },
    {
     "data": {
      "text/html": [
       "<img src=\"http://ddragon.leagueoflegends.com/cdn/10.22.1/img/item/3108.png\"/>"
      ],
      "text/plain": [
       "<IPython.core.display.HTML object>"
      ]
     },
     "metadata": {},
     "output_type": "display_data"
    },
    {
     "name": "stdout",
     "output_type": "stream",
     "text": [
      "1082\n",
      "Dark Seal\n"
     ]
    },
    {
     "data": {
      "text/html": [
       "<img src=\"http://ddragon.leagueoflegends.com/cdn/10.22.1/img/item/1082.png\"/>"
      ],
      "text/plain": [
       "<IPython.core.display.HTML object>"
      ]
     },
     "metadata": {},
     "output_type": "display_data"
    },
    {
     "name": "stdout",
     "output_type": "stream",
     "text": [
      "3020\n",
      "Sorcerer's Shoes\n"
     ]
    },
    {
     "data": {
      "text/html": [
       "<img src=\"http://ddragon.leagueoflegends.com/cdn/10.22.1/img/item/3020.png\"/>"
      ],
      "text/plain": [
       "<IPython.core.display.HTML object>"
      ]
     },
     "metadata": {},
     "output_type": "display_data"
    },
    {
     "name": "stdout",
     "output_type": "stream",
     "text": [
      "2055\n",
      "Control Ward\n"
     ]
    },
    {
     "data": {
      "text/html": [
       "<img src=\"http://ddragon.leagueoflegends.com/cdn/10.22.1/img/item/2055.png\"/>"
      ],
      "text/plain": [
       "<IPython.core.display.HTML object>"
      ]
     },
     "metadata": {},
     "output_type": "display_data"
    },
    {
     "name": "stdout",
     "output_type": "stream",
     "text": [
      "3364\n",
      "Oracle Lens\n"
     ]
    },
    {
     "data": {
      "text/html": [
       "<img src=\"http://ddragon.leagueoflegends.com/cdn/10.22.1/img/item/3364.png\"/>"
      ],
      "text/plain": [
       "<IPython.core.display.HTML object>"
      ]
     },
     "metadata": {},
     "output_type": "display_data"
    },
    {
     "name": "stdout",
     "output_type": "stream",
     "text": [
      "Lane: MIDDLE\n"
     ]
    }
   ],
   "source": [
    "sub_player = filter_participant(player)\n",
    "display_participant(sub_player)"
   ]
  },
  {
   "cell_type": "code",
   "execution_count": 33,
   "metadata": {},
   "outputs": [
    {
     "data": {
      "text/plain": [
       "0.5"
      ]
     },
     "execution_count": 33,
     "metadata": {},
     "output_type": "execute_result"
    }
   ],
   "source": [
    "winrate(\"Shen\", \"Teemo\", \"Adaptive Helm\", match_df)"
   ]
  },
  {
   "cell_type": "code",
   "execution_count": 99,
   "metadata": {},
   "outputs": [
    {
     "name": "stdout",
     "output_type": "stream",
     "text": [
      "9\n",
      "Camille\n"
     ]
    },
    {
     "data": {
      "text/html": [
       "<img src=\"http://ddragon.leagueoflegends.com/cdn/10.22.1/img/champion/Camille.png\"/>"
      ],
      "text/plain": [
       "<IPython.core.display.HTML object>"
      ]
     },
     "metadata": {},
     "output_type": "display_data"
    },
    {
     "name": "stdout",
     "output_type": "stream",
     "text": [
      "Win: True\n",
      "Lane: TOP\n",
      "3074\n",
      "Ravenous Hydra\n"
     ]
    },
    {
     "data": {
      "text/html": [
       "<img src=\"http://ddragon.leagueoflegends.com/cdn/10.22.1/img/item/3074.png\"/>"
      ],
      "text/plain": [
       "<IPython.core.display.HTML object>"
      ]
     },
     "metadata": {},
     "output_type": "display_data"
    },
    {
     "name": "stdout",
     "output_type": "stream",
     "text": [
      "2055\n",
      "Control Ward\n"
     ]
    },
    {
     "data": {
      "text/html": [
       "<img src=\"http://ddragon.leagueoflegends.com/cdn/10.22.1/img/item/2055.png\"/>"
      ],
      "text/plain": [
       "<IPython.core.display.HTML object>"
      ]
     },
     "metadata": {},
     "output_type": "display_data"
    },
    {
     "name": "stdout",
     "output_type": "stream",
     "text": [
      "3123\n",
      "Executioner's Calling\n"
     ]
    },
    {
     "data": {
      "text/html": [
       "<img src=\"http://ddragon.leagueoflegends.com/cdn/10.22.1/img/item/3123.png\"/>"
      ],
      "text/plain": [
       "<IPython.core.display.HTML object>"
      ]
     },
     "metadata": {},
     "output_type": "display_data"
    },
    {
     "name": "stdout",
     "output_type": "stream",
     "text": [
      "3384\n",
      "Trinity Fusion\n"
     ]
    },
    {
     "data": {
      "text/html": [
       "<img src=\"http://ddragon.leagueoflegends.com/cdn/10.22.1/img/item/3384.png\"/>"
      ],
      "text/plain": [
       "<IPython.core.display.HTML object>"
      ]
     },
     "metadata": {},
     "output_type": "display_data"
    },
    {
     "name": "stdout",
     "output_type": "stream",
     "text": [
      "3111\n",
      "Mercury's Treads\n"
     ]
    },
    {
     "data": {
      "text/html": [
       "<img src=\"http://ddragon.leagueoflegends.com/cdn/10.22.1/img/item/3111.png\"/>"
      ],
      "text/plain": [
       "<IPython.core.display.HTML object>"
      ]
     },
     "metadata": {},
     "output_type": "display_data"
    },
    {
     "name": "stdout",
     "output_type": "stream",
     "text": [
      "3340\n",
      "Warding Totem (Trinket)\n"
     ]
    },
    {
     "data": {
      "text/html": [
       "<img src=\"http://ddragon.leagueoflegends.com/cdn/10.22.1/img/item/3340.png\"/>"
      ],
      "text/plain": [
       "<IPython.core.display.HTML object>"
      ]
     },
     "metadata": {},
     "output_type": "display_data"
    },
    {
     "name": "stdout",
     "output_type": "stream",
     "text": [
      "Fiora\n"
     ]
    },
    {
     "data": {
      "text/html": [
       "<img src=\"http://ddragon.leagueoflegends.com/cdn/10.22.1/img/champion/Fiora.png\"/>"
      ],
      "text/plain": [
       "<IPython.core.display.HTML object>"
      ]
     },
     "metadata": {},
     "output_type": "display_data"
    },
    {
     "name": "stdout",
     "output_type": "stream",
     "text": [
      "Win: False\n",
      "Lane: TOP\n",
      "2420\n",
      "Stopwatch\n"
     ]
    },
    {
     "data": {
      "text/html": [
       "<img src=\"http://ddragon.leagueoflegends.com/cdn/10.22.1/img/item/2420.png\"/>"
      ],
      "text/plain": [
       "<IPython.core.display.HTML object>"
      ]
     },
     "metadata": {},
     "output_type": "display_data"
    },
    {
     "name": "stdout",
     "output_type": "stream",
     "text": [
      "2420\n",
      "Stopwatch\n"
     ]
    },
    {
     "data": {
      "text/html": [
       "<img src=\"http://ddragon.leagueoflegends.com/cdn/10.22.1/img/item/2420.png\"/>"
      ],
      "text/plain": [
       "<IPython.core.display.HTML object>"
      ]
     },
     "metadata": {},
     "output_type": "display_data"
    },
    {
     "name": "stdout",
     "output_type": "stream",
     "text": [
      "2420\n",
      "Stopwatch\n"
     ]
    },
    {
     "data": {
      "text/html": [
       "<img src=\"http://ddragon.leagueoflegends.com/cdn/10.22.1/img/item/2420.png\"/>"
      ],
      "text/plain": [
       "<IPython.core.display.HTML object>"
      ]
     },
     "metadata": {},
     "output_type": "display_data"
    },
    {
     "name": "stdout",
     "output_type": "stream",
     "text": [
      "2420\n",
      "Stopwatch\n"
     ]
    },
    {
     "data": {
      "text/html": [
       "<img src=\"http://ddragon.leagueoflegends.com/cdn/10.22.1/img/item/2420.png\"/>"
      ],
      "text/plain": [
       "<IPython.core.display.HTML object>"
      ]
     },
     "metadata": {},
     "output_type": "display_data"
    },
    {
     "name": "stdout",
     "output_type": "stream",
     "text": [
      "2420\n",
      "Stopwatch\n"
     ]
    },
    {
     "data": {
      "text/html": [
       "<img src=\"http://ddragon.leagueoflegends.com/cdn/10.22.1/img/item/2420.png\"/>"
      ],
      "text/plain": [
       "<IPython.core.display.HTML object>"
      ]
     },
     "metadata": {},
     "output_type": "display_data"
    },
    {
     "name": "stdout",
     "output_type": "stream",
     "text": [
      "2420\n",
      "Stopwatch\n"
     ]
    },
    {
     "data": {
      "text/html": [
       "<img src=\"http://ddragon.leagueoflegends.com/cdn/10.22.1/img/item/2420.png\"/>"
      ],
      "text/plain": [
       "<IPython.core.display.HTML object>"
      ]
     },
     "metadata": {},
     "output_type": "display_data"
    },
    {
     "name": "stdout",
     "output_type": "stream",
     "text": [
      "3364\n",
      "Oracle Lens\n"
     ]
    },
    {
     "data": {
      "text/html": [
       "<img src=\"http://ddragon.leagueoflegends.com/cdn/10.22.1/img/item/3364.png\"/>"
      ],
      "text/plain": [
       "<IPython.core.display.HTML object>"
      ]
     },
     "metadata": {},
     "output_type": "display_data"
    },
    {
     "name": "stdout",
     "output_type": "stream",
     "text": [
      "Fiora\n"
     ]
    },
    {
     "data": {
      "text/html": [
       "<img src=\"http://ddragon.leagueoflegends.com/cdn/10.22.1/img/champion/Fiora.png\"/>"
      ],
      "text/plain": [
       "<IPython.core.display.HTML object>"
      ]
     },
     "metadata": {},
     "output_type": "display_data"
    },
    {
     "name": "stdout",
     "output_type": "stream",
     "text": [
      "Win: True\n",
      "Lane: TOP\n",
      "3074\n",
      "Ravenous Hydra\n"
     ]
    },
    {
     "data": {
      "text/html": [
       "<img src=\"http://ddragon.leagueoflegends.com/cdn/10.22.1/img/item/3074.png\"/>"
      ],
      "text/plain": [
       "<IPython.core.display.HTML object>"
      ]
     },
     "metadata": {},
     "output_type": "display_data"
    },
    {
     "name": "stdout",
     "output_type": "stream",
     "text": [
      "3078\n",
      "Trinity Force\n"
     ]
    },
    {
     "data": {
      "text/html": [
       "<img src=\"http://ddragon.leagueoflegends.com/cdn/10.22.1/img/item/3078.png\"/>"
      ],
      "text/plain": [
       "<IPython.core.display.HTML object>"
      ]
     },
     "metadata": {},
     "output_type": "display_data"
    },
    {
     "name": "stdout",
     "output_type": "stream",
     "text": [
      "1055\n",
      "Doran's Blade\n"
     ]
    },
    {
     "data": {
      "text/html": [
       "<img src=\"http://ddragon.leagueoflegends.com/cdn/10.22.1/img/item/1055.png\"/>"
      ],
      "text/plain": [
       "<IPython.core.display.HTML object>"
      ]
     },
     "metadata": {},
     "output_type": "display_data"
    },
    {
     "name": "stdout",
     "output_type": "stream",
     "text": [
      "1055\n",
      "Doran's Blade\n"
     ]
    },
    {
     "data": {
      "text/html": [
       "<img src=\"http://ddragon.leagueoflegends.com/cdn/10.22.1/img/item/1055.png\"/>"
      ],
      "text/plain": [
       "<IPython.core.display.HTML object>"
      ]
     },
     "metadata": {},
     "output_type": "display_data"
    },
    {
     "name": "stdout",
     "output_type": "stream",
     "text": [
      "3047\n",
      "Ninja Tabi\n"
     ]
    },
    {
     "data": {
      "text/html": [
       "<img src=\"http://ddragon.leagueoflegends.com/cdn/10.22.1/img/item/3047.png\"/>"
      ],
      "text/plain": [
       "<IPython.core.display.HTML object>"
      ]
     },
     "metadata": {},
     "output_type": "display_data"
    },
    {
     "name": "stdout",
     "output_type": "stream",
     "text": [
      "3340\n",
      "Warding Totem (Trinket)\n"
     ]
    },
    {
     "data": {
      "text/html": [
       "<img src=\"http://ddragon.leagueoflegends.com/cdn/10.22.1/img/item/3340.png\"/>"
      ],
      "text/plain": [
       "<IPython.core.display.HTML object>"
      ]
     },
     "metadata": {},
     "output_type": "display_data"
    },
    {
     "name": "stdout",
     "output_type": "stream",
     "text": [
      "Camille\n"
     ]
    },
    {
     "data": {
      "text/html": [
       "<img src=\"http://ddragon.leagueoflegends.com/cdn/10.22.1/img/champion/Camille.png\"/>"
      ],
      "text/plain": [
       "<IPython.core.display.HTML object>"
      ]
     },
     "metadata": {},
     "output_type": "display_data"
    },
    {
     "name": "stdout",
     "output_type": "stream",
     "text": [
      "Win: False\n",
      "Lane: TOP\n",
      "3074\n",
      "Ravenous Hydra\n"
     ]
    },
    {
     "data": {
      "text/html": [
       "<img src=\"http://ddragon.leagueoflegends.com/cdn/10.22.1/img/item/3074.png\"/>"
      ],
      "text/plain": [
       "<IPython.core.display.HTML object>"
      ]
     },
     "metadata": {},
     "output_type": "display_data"
    },
    {
     "name": "stdout",
     "output_type": "stream",
     "text": [
      "3047\n",
      "Ninja Tabi\n"
     ]
    },
    {
     "data": {
      "text/html": [
       "<img src=\"http://ddragon.leagueoflegends.com/cdn/10.22.1/img/item/3047.png\"/>"
      ],
      "text/plain": [
       "<IPython.core.display.HTML object>"
      ]
     },
     "metadata": {},
     "output_type": "display_data"
    },
    {
     "name": "stdout",
     "output_type": "stream",
     "text": [
      "3078\n",
      "Trinity Force\n"
     ]
    },
    {
     "data": {
      "text/html": [
       "<img src=\"http://ddragon.leagueoflegends.com/cdn/10.22.1/img/item/3078.png\"/>"
      ],
      "text/plain": [
       "<IPython.core.display.HTML object>"
      ]
     },
     "metadata": {},
     "output_type": "display_data"
    },
    {
     "name": "stdout",
     "output_type": "stream",
     "text": [
      "1055\n",
      "Doran's Blade\n"
     ]
    },
    {
     "data": {
      "text/html": [
       "<img src=\"http://ddragon.leagueoflegends.com/cdn/10.22.1/img/item/1055.png\"/>"
      ],
      "text/plain": [
       "<IPython.core.display.HTML object>"
      ]
     },
     "metadata": {},
     "output_type": "display_data"
    },
    {
     "name": "stdout",
     "output_type": "stream",
     "text": [
      "1055\n",
      "Doran's Blade\n"
     ]
    },
    {
     "data": {
      "text/html": [
       "<img src=\"http://ddragon.leagueoflegends.com/cdn/10.22.1/img/item/1055.png\"/>"
      ],
      "text/plain": [
       "<IPython.core.display.HTML object>"
      ]
     },
     "metadata": {},
     "output_type": "display_data"
    },
    {
     "name": "stdout",
     "output_type": "stream",
     "text": [
      "3340\n",
      "Warding Totem (Trinket)\n"
     ]
    },
    {
     "data": {
      "text/html": [
       "<img src=\"http://ddragon.leagueoflegends.com/cdn/10.22.1/img/item/3340.png\"/>"
      ],
      "text/plain": [
       "<IPython.core.display.HTML object>"
      ]
     },
     "metadata": {},
     "output_type": "display_data"
    },
    {
     "name": "stdout",
     "output_type": "stream",
     "text": [
      "Fiora\n"
     ]
    },
    {
     "data": {
      "text/html": [
       "<img src=\"http://ddragon.leagueoflegends.com/cdn/10.22.1/img/champion/Fiora.png\"/>"
      ],
      "text/plain": [
       "<IPython.core.display.HTML object>"
      ]
     },
     "metadata": {},
     "output_type": "display_data"
    },
    {
     "name": "stdout",
     "output_type": "stream",
     "text": [
      "Win: False\n",
      "Lane: TOP\n",
      "3047\n",
      "Ninja Tabi\n"
     ]
    },
    {
     "data": {
      "text/html": [
       "<img src=\"http://ddragon.leagueoflegends.com/cdn/10.22.1/img/item/3047.png\"/>"
      ],
      "text/plain": [
       "<IPython.core.display.HTML object>"
      ]
     },
     "metadata": {},
     "output_type": "display_data"
    },
    {
     "name": "stdout",
     "output_type": "stream",
     "text": [
      "3074\n",
      "Ravenous Hydra\n"
     ]
    },
    {
     "data": {
      "text/html": [
       "<img src=\"http://ddragon.leagueoflegends.com/cdn/10.22.1/img/item/3074.png\"/>"
      ],
      "text/plain": [
       "<IPython.core.display.HTML object>"
      ]
     },
     "metadata": {},
     "output_type": "display_data"
    },
    {
     "name": "stdout",
     "output_type": "stream",
     "text": [
      "3078\n",
      "Trinity Force\n"
     ]
    },
    {
     "data": {
      "text/html": [
       "<img src=\"http://ddragon.leagueoflegends.com/cdn/10.22.1/img/item/3078.png\"/>"
      ],
      "text/plain": [
       "<IPython.core.display.HTML object>"
      ]
     },
     "metadata": {},
     "output_type": "display_data"
    },
    {
     "name": "stdout",
     "output_type": "stream",
     "text": [
      "1038\n",
      "B. F. Sword\n"
     ]
    },
    {
     "data": {
      "text/html": [
       "<img src=\"http://ddragon.leagueoflegends.com/cdn/10.22.1/img/item/1038.png\"/>"
      ],
      "text/plain": [
       "<IPython.core.display.HTML object>"
      ]
     },
     "metadata": {},
     "output_type": "display_data"
    },
    {
     "name": "stdout",
     "output_type": "stream",
     "text": [
      "1055\n",
      "Doran's Blade\n"
     ]
    },
    {
     "data": {
      "text/html": [
       "<img src=\"http://ddragon.leagueoflegends.com/cdn/10.22.1/img/item/1055.png\"/>"
      ],
      "text/plain": [
       "<IPython.core.display.HTML object>"
      ]
     },
     "metadata": {},
     "output_type": "display_data"
    },
    {
     "name": "stdout",
     "output_type": "stream",
     "text": [
      "1036\n",
      "Long Sword\n"
     ]
    },
    {
     "data": {
      "text/html": [
       "<img src=\"http://ddragon.leagueoflegends.com/cdn/10.22.1/img/item/1036.png\"/>"
      ],
      "text/plain": [
       "<IPython.core.display.HTML object>"
      ]
     },
     "metadata": {},
     "output_type": "display_data"
    },
    {
     "name": "stdout",
     "output_type": "stream",
     "text": [
      "3340\n",
      "Warding Totem (Trinket)\n"
     ]
    },
    {
     "data": {
      "text/html": [
       "<img src=\"http://ddragon.leagueoflegends.com/cdn/10.22.1/img/item/3340.png\"/>"
      ],
      "text/plain": [
       "<IPython.core.display.HTML object>"
      ]
     },
     "metadata": {},
     "output_type": "display_data"
    },
    {
     "name": "stdout",
     "output_type": "stream",
     "text": [
      "Camille\n"
     ]
    },
    {
     "data": {
      "text/html": [
       "<img src=\"http://ddragon.leagueoflegends.com/cdn/10.22.1/img/champion/Camille.png\"/>"
      ],
      "text/plain": [
       "<IPython.core.display.HTML object>"
      ]
     },
     "metadata": {},
     "output_type": "display_data"
    },
    {
     "name": "stdout",
     "output_type": "stream",
     "text": [
      "Win: True\n",
      "Lane: TOP\n",
      "3074\n",
      "Ravenous Hydra\n"
     ]
    },
    {
     "data": {
      "text/html": [
       "<img src=\"http://ddragon.leagueoflegends.com/cdn/10.22.1/img/item/3074.png\"/>"
      ],
      "text/plain": [
       "<IPython.core.display.HTML object>"
      ]
     },
     "metadata": {},
     "output_type": "display_data"
    },
    {
     "name": "stdout",
     "output_type": "stream",
     "text": [
      "3111\n",
      "Mercury's Treads\n"
     ]
    },
    {
     "data": {
      "text/html": [
       "<img src=\"http://ddragon.leagueoflegends.com/cdn/10.22.1/img/item/3111.png\"/>"
      ],
      "text/plain": [
       "<IPython.core.display.HTML object>"
      ]
     },
     "metadata": {},
     "output_type": "display_data"
    },
    {
     "name": "stdout",
     "output_type": "stream",
     "text": [
      "3812\n",
      "Death's Dance\n"
     ]
    },
    {
     "data": {
      "text/html": [
       "<img src=\"http://ddragon.leagueoflegends.com/cdn/10.22.1/img/item/3812.png\"/>"
      ],
      "text/plain": [
       "<IPython.core.display.HTML object>"
      ]
     },
     "metadata": {},
     "output_type": "display_data"
    },
    {
     "name": "stdout",
     "output_type": "stream",
     "text": [
      "3078\n",
      "Trinity Force\n"
     ]
    },
    {
     "data": {
      "text/html": [
       "<img src=\"http://ddragon.leagueoflegends.com/cdn/10.22.1/img/item/3078.png\"/>"
      ],
      "text/plain": [
       "<IPython.core.display.HTML object>"
      ]
     },
     "metadata": {},
     "output_type": "display_data"
    },
    {
     "name": "stdout",
     "output_type": "stream",
     "text": [
      "3053\n",
      "Sterak's Gage\n"
     ]
    },
    {
     "data": {
      "text/html": [
       "<img src=\"http://ddragon.leagueoflegends.com/cdn/10.22.1/img/item/3053.png\"/>"
      ],
      "text/plain": [
       "<IPython.core.display.HTML object>"
      ]
     },
     "metadata": {},
     "output_type": "display_data"
    },
    {
     "name": "stdout",
     "output_type": "stream",
     "text": [
      "3363\n",
      "Farsight Alteration\n"
     ]
    },
    {
     "data": {
      "text/html": [
       "<img src=\"http://ddragon.leagueoflegends.com/cdn/10.22.1/img/item/3363.png\"/>"
      ],
      "text/plain": [
       "<IPython.core.display.HTML object>"
      ]
     },
     "metadata": {},
     "output_type": "display_data"
    },
    {
     "name": "stdout",
     "output_type": "stream",
     "text": [
      "Fiora\n"
     ]
    },
    {
     "data": {
      "text/html": [
       "<img src=\"http://ddragon.leagueoflegends.com/cdn/10.22.1/img/champion/Fiora.png\"/>"
      ],
      "text/plain": [
       "<IPython.core.display.HTML object>"
      ]
     },
     "metadata": {},
     "output_type": "display_data"
    },
    {
     "name": "stdout",
     "output_type": "stream",
     "text": [
      "Win: True\n",
      "Lane: TOP\n",
      "3044\n",
      "Phage\n"
     ]
    },
    {
     "data": {
      "text/html": [
       "<img src=\"http://ddragon.leagueoflegends.com/cdn/10.22.1/img/item/3044.png\"/>"
      ],
      "text/plain": [
       "<IPython.core.display.HTML object>"
      ]
     },
     "metadata": {},
     "output_type": "display_data"
    },
    {
     "name": "stdout",
     "output_type": "stream",
     "text": [
      "3074\n",
      "Ravenous Hydra\n"
     ]
    },
    {
     "data": {
      "text/html": [
       "<img src=\"http://ddragon.leagueoflegends.com/cdn/10.22.1/img/item/3074.png\"/>"
      ],
      "text/plain": [
       "<IPython.core.display.HTML object>"
      ]
     },
     "metadata": {},
     "output_type": "display_data"
    },
    {
     "name": "stdout",
     "output_type": "stream",
     "text": [
      "1001\n",
      "Boots of Speed\n"
     ]
    },
    {
     "data": {
      "text/html": [
       "<img src=\"http://ddragon.leagueoflegends.com/cdn/10.22.1/img/item/1001.png\"/>"
      ],
      "text/plain": [
       "<IPython.core.display.HTML object>"
      ]
     },
     "metadata": {},
     "output_type": "display_data"
    },
    {
     "name": "stdout",
     "output_type": "stream",
     "text": [
      "1055\n",
      "Doran's Blade\n"
     ]
    },
    {
     "data": {
      "text/html": [
       "<img src=\"http://ddragon.leagueoflegends.com/cdn/10.22.1/img/item/1055.png\"/>"
      ],
      "text/plain": [
       "<IPython.core.display.HTML object>"
      ]
     },
     "metadata": {},
     "output_type": "display_data"
    },
    {
     "name": "stdout",
     "output_type": "stream",
     "text": [
      "1055\n",
      "Doran's Blade\n"
     ]
    },
    {
     "data": {
      "text/html": [
       "<img src=\"http://ddragon.leagueoflegends.com/cdn/10.22.1/img/item/1055.png\"/>"
      ],
      "text/plain": [
       "<IPython.core.display.HTML object>"
      ]
     },
     "metadata": {},
     "output_type": "display_data"
    },
    {
     "name": "stdout",
     "output_type": "stream",
     "text": [
      "3057\n",
      "Sheen\n"
     ]
    },
    {
     "data": {
      "text/html": [
       "<img src=\"http://ddragon.leagueoflegends.com/cdn/10.22.1/img/item/3057.png\"/>"
      ],
      "text/plain": [
       "<IPython.core.display.HTML object>"
      ]
     },
     "metadata": {},
     "output_type": "display_data"
    },
    {
     "name": "stdout",
     "output_type": "stream",
     "text": [
      "3340\n",
      "Warding Totem (Trinket)\n"
     ]
    },
    {
     "data": {
      "text/html": [
       "<img src=\"http://ddragon.leagueoflegends.com/cdn/10.22.1/img/item/3340.png\"/>"
      ],
      "text/plain": [
       "<IPython.core.display.HTML object>"
      ]
     },
     "metadata": {},
     "output_type": "display_data"
    },
    {
     "name": "stdout",
     "output_type": "stream",
     "text": [
      "Camille\n"
     ]
    },
    {
     "data": {
      "text/html": [
       "<img src=\"http://ddragon.leagueoflegends.com/cdn/10.22.1/img/champion/Camille.png\"/>"
      ],
      "text/plain": [
       "<IPython.core.display.HTML object>"
      ]
     },
     "metadata": {},
     "output_type": "display_data"
    },
    {
     "name": "stdout",
     "output_type": "stream",
     "text": [
      "Win: False\n",
      "Lane: TOP\n",
      "3074\n",
      "Ravenous Hydra\n"
     ]
    },
    {
     "data": {
      "text/html": [
       "<img src=\"http://ddragon.leagueoflegends.com/cdn/10.22.1/img/item/3074.png\"/>"
      ],
      "text/plain": [
       "<IPython.core.display.HTML object>"
      ]
     },
     "metadata": {},
     "output_type": "display_data"
    },
    {
     "name": "stdout",
     "output_type": "stream",
     "text": [
      "3052\n",
      "Jaurim's Fist\n"
     ]
    },
    {
     "data": {
      "text/html": [
       "<img src=\"http://ddragon.leagueoflegends.com/cdn/10.22.1/img/item/3052.png\"/>"
      ],
      "text/plain": [
       "<IPython.core.display.HTML object>"
      ]
     },
     "metadata": {},
     "output_type": "display_data"
    },
    {
     "name": "stdout",
     "output_type": "stream",
     "text": [
      "3078\n",
      "Trinity Force\n"
     ]
    },
    {
     "data": {
      "text/html": [
       "<img src=\"http://ddragon.leagueoflegends.com/cdn/10.22.1/img/item/3078.png\"/>"
      ],
      "text/plain": [
       "<IPython.core.display.HTML object>"
      ]
     },
     "metadata": {},
     "output_type": "display_data"
    },
    {
     "name": "stdout",
     "output_type": "stream",
     "text": [
      "1055\n",
      "Doran's Blade\n"
     ]
    },
    {
     "data": {
      "text/html": [
       "<img src=\"http://ddragon.leagueoflegends.com/cdn/10.22.1/img/item/1055.png\"/>"
      ],
      "text/plain": [
       "<IPython.core.display.HTML object>"
      ]
     },
     "metadata": {},
     "output_type": "display_data"
    },
    {
     "name": "stdout",
     "output_type": "stream",
     "text": [
      "2422\n",
      "Slightly Magical Boots\n"
     ]
    },
    {
     "data": {
      "text/html": [
       "<img src=\"http://ddragon.leagueoflegends.com/cdn/10.22.1/img/item/2422.png\"/>"
      ],
      "text/plain": [
       "<IPython.core.display.HTML object>"
      ]
     },
     "metadata": {},
     "output_type": "display_data"
    },
    {
     "name": "stdout",
     "output_type": "stream",
     "text": [
      "3340\n",
      "Warding Totem (Trinket)\n"
     ]
    },
    {
     "data": {
      "text/html": [
       "<img src=\"http://ddragon.leagueoflegends.com/cdn/10.22.1/img/item/3340.png\"/>"
      ],
      "text/plain": [
       "<IPython.core.display.HTML object>"
      ]
     },
     "metadata": {},
     "output_type": "display_data"
    },
    {
     "name": "stdout",
     "output_type": "stream",
     "text": [
      "Fiora\n"
     ]
    },
    {
     "data": {
      "text/html": [
       "<img src=\"http://ddragon.leagueoflegends.com/cdn/10.22.1/img/champion/Fiora.png\"/>"
      ],
      "text/plain": [
       "<IPython.core.display.HTML object>"
      ]
     },
     "metadata": {},
     "output_type": "display_data"
    },
    {
     "name": "stdout",
     "output_type": "stream",
     "text": [
      "Win: False\n",
      "Lane: TOP\n",
      "3078\n",
      "Trinity Force\n"
     ]
    },
    {
     "data": {
      "text/html": [
       "<img src=\"http://ddragon.leagueoflegends.com/cdn/10.22.1/img/item/3078.png\"/>"
      ],
      "text/plain": [
       "<IPython.core.display.HTML object>"
      ]
     },
     "metadata": {},
     "output_type": "display_data"
    },
    {
     "name": "stdout",
     "output_type": "stream",
     "text": [
      "3074\n",
      "Ravenous Hydra\n"
     ]
    },
    {
     "data": {
      "text/html": [
       "<img src=\"http://ddragon.leagueoflegends.com/cdn/10.22.1/img/item/3074.png\"/>"
      ],
      "text/plain": [
       "<IPython.core.display.HTML object>"
      ]
     },
     "metadata": {},
     "output_type": "display_data"
    },
    {
     "name": "stdout",
     "output_type": "stream",
     "text": [
      "3812\n",
      "Death's Dance\n"
     ]
    },
    {
     "data": {
      "text/html": [
       "<img src=\"http://ddragon.leagueoflegends.com/cdn/10.22.1/img/item/3812.png\"/>"
      ],
      "text/plain": [
       "<IPython.core.display.HTML object>"
      ]
     },
     "metadata": {},
     "output_type": "display_data"
    },
    {
     "name": "stdout",
     "output_type": "stream",
     "text": [
      "1001\n",
      "Boots of Speed\n"
     ]
    },
    {
     "data": {
      "text/html": [
       "<img src=\"http://ddragon.leagueoflegends.com/cdn/10.22.1/img/item/1001.png\"/>"
      ],
      "text/plain": [
       "<IPython.core.display.HTML object>"
      ]
     },
     "metadata": {},
     "output_type": "display_data"
    },
    {
     "name": "stdout",
     "output_type": "stream",
     "text": [
      "1036\n",
      "Long Sword\n"
     ]
    },
    {
     "data": {
      "text/html": [
       "<img src=\"http://ddragon.leagueoflegends.com/cdn/10.22.1/img/item/1036.png\"/>"
      ],
      "text/plain": [
       "<IPython.core.display.HTML object>"
      ]
     },
     "metadata": {},
     "output_type": "display_data"
    },
    {
     "name": "stdout",
     "output_type": "stream",
     "text": [
      "1055\n",
      "Doran's Blade\n"
     ]
    },
    {
     "data": {
      "text/html": [
       "<img src=\"http://ddragon.leagueoflegends.com/cdn/10.22.1/img/item/1055.png\"/>"
      ],
      "text/plain": [
       "<IPython.core.display.HTML object>"
      ]
     },
     "metadata": {},
     "output_type": "display_data"
    },
    {
     "name": "stdout",
     "output_type": "stream",
     "text": [
      "3340\n",
      "Warding Totem (Trinket)\n"
     ]
    },
    {
     "data": {
      "text/html": [
       "<img src=\"http://ddragon.leagueoflegends.com/cdn/10.22.1/img/item/3340.png\"/>"
      ],
      "text/plain": [
       "<IPython.core.display.HTML object>"
      ]
     },
     "metadata": {},
     "output_type": "display_data"
    },
    {
     "name": "stdout",
     "output_type": "stream",
     "text": [
      "Camille\n"
     ]
    },
    {
     "data": {
      "text/html": [
       "<img src=\"http://ddragon.leagueoflegends.com/cdn/10.22.1/img/champion/Camille.png\"/>"
      ],
      "text/plain": [
       "<IPython.core.display.HTML object>"
      ]
     },
     "metadata": {},
     "output_type": "display_data"
    },
    {
     "name": "stdout",
     "output_type": "stream",
     "text": [
      "Win: True\n",
      "Lane: TOP\n",
      "3047\n",
      "Ninja Tabi\n"
     ]
    },
    {
     "data": {
      "text/html": [
       "<img src=\"http://ddragon.leagueoflegends.com/cdn/10.22.1/img/item/3047.png\"/>"
      ],
      "text/plain": [
       "<IPython.core.display.HTML object>"
      ]
     },
     "metadata": {},
     "output_type": "display_data"
    },
    {
     "name": "stdout",
     "output_type": "stream",
     "text": [
      "3074\n",
      "Ravenous Hydra\n"
     ]
    },
    {
     "data": {
      "text/html": [
       "<img src=\"http://ddragon.leagueoflegends.com/cdn/10.22.1/img/item/3074.png\"/>"
      ],
      "text/plain": [
       "<IPython.core.display.HTML object>"
      ]
     },
     "metadata": {},
     "output_type": "display_data"
    },
    {
     "name": "stdout",
     "output_type": "stream",
     "text": [
      "3078\n",
      "Trinity Force\n"
     ]
    },
    {
     "data": {
      "text/html": [
       "<img src=\"http://ddragon.leagueoflegends.com/cdn/10.22.1/img/item/3078.png\"/>"
      ],
      "text/plain": [
       "<IPython.core.display.HTML object>"
      ]
     },
     "metadata": {},
     "output_type": "display_data"
    },
    {
     "name": "stdout",
     "output_type": "stream",
     "text": [
      "1055\n",
      "Doran's Blade\n"
     ]
    },
    {
     "data": {
      "text/html": [
       "<img src=\"http://ddragon.leagueoflegends.com/cdn/10.22.1/img/item/1055.png\"/>"
      ],
      "text/plain": [
       "<IPython.core.display.HTML object>"
      ]
     },
     "metadata": {},
     "output_type": "display_data"
    },
    {
     "name": "stdout",
     "output_type": "stream",
     "text": [
      "1055\n",
      "Doran's Blade\n"
     ]
    },
    {
     "data": {
      "text/html": [
       "<img src=\"http://ddragon.leagueoflegends.com/cdn/10.22.1/img/item/1055.png\"/>"
      ],
      "text/plain": [
       "<IPython.core.display.HTML object>"
      ]
     },
     "metadata": {},
     "output_type": "display_data"
    },
    {
     "name": "stdout",
     "output_type": "stream",
     "text": [
      "3052\n",
      "Jaurim's Fist\n"
     ]
    },
    {
     "data": {
      "text/html": [
       "<img src=\"http://ddragon.leagueoflegends.com/cdn/10.22.1/img/item/3052.png\"/>"
      ],
      "text/plain": [
       "<IPython.core.display.HTML object>"
      ]
     },
     "metadata": {},
     "output_type": "display_data"
    },
    {
     "name": "stdout",
     "output_type": "stream",
     "text": [
      "3364\n",
      "Oracle Lens\n"
     ]
    },
    {
     "data": {
      "text/html": [
       "<img src=\"http://ddragon.leagueoflegends.com/cdn/10.22.1/img/item/3364.png\"/>"
      ],
      "text/plain": [
       "<IPython.core.display.HTML object>"
      ]
     },
     "metadata": {},
     "output_type": "display_data"
    },
    {
     "name": "stdout",
     "output_type": "stream",
     "text": [
      "Camille\n"
     ]
    },
    {
     "data": {
      "text/html": [
       "<img src=\"http://ddragon.leagueoflegends.com/cdn/10.22.1/img/champion/Camille.png\"/>"
      ],
      "text/plain": [
       "<IPython.core.display.HTML object>"
      ]
     },
     "metadata": {},
     "output_type": "display_data"
    },
    {
     "name": "stdout",
     "output_type": "stream",
     "text": [
      "Win: False\n",
      "Lane: TOP\n",
      "3074\n",
      "Ravenous Hydra\n"
     ]
    },
    {
     "data": {
      "text/html": [
       "<img src=\"http://ddragon.leagueoflegends.com/cdn/10.22.1/img/item/3074.png\"/>"
      ],
      "text/plain": [
       "<IPython.core.display.HTML object>"
      ]
     },
     "metadata": {},
     "output_type": "display_data"
    },
    {
     "name": "stdout",
     "output_type": "stream",
     "text": [
      "3052\n",
      "Jaurim's Fist\n"
     ]
    },
    {
     "data": {
      "text/html": [
       "<img src=\"http://ddragon.leagueoflegends.com/cdn/10.22.1/img/item/3052.png\"/>"
      ],
      "text/plain": [
       "<IPython.core.display.HTML object>"
      ]
     },
     "metadata": {},
     "output_type": "display_data"
    },
    {
     "name": "stdout",
     "output_type": "stream",
     "text": [
      "3047\n",
      "Ninja Tabi\n"
     ]
    },
    {
     "data": {
      "text/html": [
       "<img src=\"http://ddragon.leagueoflegends.com/cdn/10.22.1/img/item/3047.png\"/>"
      ],
      "text/plain": [
       "<IPython.core.display.HTML object>"
      ]
     },
     "metadata": {},
     "output_type": "display_data"
    },
    {
     "name": "stdout",
     "output_type": "stream",
     "text": [
      "1055\n",
      "Doran's Blade\n"
     ]
    },
    {
     "data": {
      "text/html": [
       "<img src=\"http://ddragon.leagueoflegends.com/cdn/10.22.1/img/item/1055.png\"/>"
      ],
      "text/plain": [
       "<IPython.core.display.HTML object>"
      ]
     },
     "metadata": {},
     "output_type": "display_data"
    },
    {
     "name": "stdout",
     "output_type": "stream",
     "text": [
      "3123\n",
      "Executioner's Calling\n"
     ]
    },
    {
     "data": {
      "text/html": [
       "<img src=\"http://ddragon.leagueoflegends.com/cdn/10.22.1/img/item/3123.png\"/>"
      ],
      "text/plain": [
       "<IPython.core.display.HTML object>"
      ]
     },
     "metadata": {},
     "output_type": "display_data"
    },
    {
     "name": "stdout",
     "output_type": "stream",
     "text": [
      "3078\n",
      "Trinity Force\n"
     ]
    },
    {
     "data": {
      "text/html": [
       "<img src=\"http://ddragon.leagueoflegends.com/cdn/10.22.1/img/item/3078.png\"/>"
      ],
      "text/plain": [
       "<IPython.core.display.HTML object>"
      ]
     },
     "metadata": {},
     "output_type": "display_data"
    },
    {
     "name": "stdout",
     "output_type": "stream",
     "text": [
      "3340\n",
      "Warding Totem (Trinket)\n"
     ]
    },
    {
     "data": {
      "text/html": [
       "<img src=\"http://ddragon.leagueoflegends.com/cdn/10.22.1/img/item/3340.png\"/>"
      ],
      "text/plain": [
       "<IPython.core.display.HTML object>"
      ]
     },
     "metadata": {},
     "output_type": "display_data"
    },
    {
     "name": "stdout",
     "output_type": "stream",
     "text": [
      "Fiora\n"
     ]
    },
    {
     "data": {
      "text/html": [
       "<img src=\"http://ddragon.leagueoflegends.com/cdn/10.22.1/img/champion/Fiora.png\"/>"
      ],
      "text/plain": [
       "<IPython.core.display.HTML object>"
      ]
     },
     "metadata": {},
     "output_type": "display_data"
    },
    {
     "name": "stdout",
     "output_type": "stream",
     "text": [
      "Win: True\n",
      "Lane: TOP\n",
      "1055\n",
      "Doran's Blade\n"
     ]
    },
    {
     "data": {
      "text/html": [
       "<img src=\"http://ddragon.leagueoflegends.com/cdn/10.22.1/img/item/1055.png\"/>"
      ],
      "text/plain": [
       "<IPython.core.display.HTML object>"
      ]
     },
     "metadata": {},
     "output_type": "display_data"
    },
    {
     "name": "stdout",
     "output_type": "stream",
     "text": [
      "3074\n",
      "Ravenous Hydra\n"
     ]
    },
    {
     "data": {
      "text/html": [
       "<img src=\"http://ddragon.leagueoflegends.com/cdn/10.22.1/img/item/3074.png\"/>"
      ],
      "text/plain": [
       "<IPython.core.display.HTML object>"
      ]
     },
     "metadata": {},
     "output_type": "display_data"
    },
    {
     "name": "stdout",
     "output_type": "stream",
     "text": [
      "1055\n",
      "Doran's Blade\n"
     ]
    },
    {
     "data": {
      "text/html": [
       "<img src=\"http://ddragon.leagueoflegends.com/cdn/10.22.1/img/item/1055.png\"/>"
      ],
      "text/plain": [
       "<IPython.core.display.HTML object>"
      ]
     },
     "metadata": {},
     "output_type": "display_data"
    },
    {
     "name": "stdout",
     "output_type": "stream",
     "text": [
      "3047\n",
      "Ninja Tabi\n"
     ]
    },
    {
     "data": {
      "text/html": [
       "<img src=\"http://ddragon.leagueoflegends.com/cdn/10.22.1/img/item/3047.png\"/>"
      ],
      "text/plain": [
       "<IPython.core.display.HTML object>"
      ]
     },
     "metadata": {},
     "output_type": "display_data"
    },
    {
     "name": "stdout",
     "output_type": "stream",
     "text": [
      "3044\n",
      "Phage\n"
     ]
    },
    {
     "data": {
      "text/html": [
       "<img src=\"http://ddragon.leagueoflegends.com/cdn/10.22.1/img/item/3044.png\"/>"
      ],
      "text/plain": [
       "<IPython.core.display.HTML object>"
      ]
     },
     "metadata": {},
     "output_type": "display_data"
    },
    {
     "name": "stdout",
     "output_type": "stream",
     "text": [
      "3057\n",
      "Sheen\n"
     ]
    },
    {
     "data": {
      "text/html": [
       "<img src=\"http://ddragon.leagueoflegends.com/cdn/10.22.1/img/item/3057.png\"/>"
      ],
      "text/plain": [
       "<IPython.core.display.HTML object>"
      ]
     },
     "metadata": {},
     "output_type": "display_data"
    },
    {
     "name": "stdout",
     "output_type": "stream",
     "text": [
      "3340\n",
      "Warding Totem (Trinket)\n"
     ]
    },
    {
     "data": {
      "text/html": [
       "<img src=\"http://ddragon.leagueoflegends.com/cdn/10.22.1/img/item/3340.png\"/>"
      ],
      "text/plain": [
       "<IPython.core.display.HTML object>"
      ]
     },
     "metadata": {},
     "output_type": "display_data"
    },
    {
     "name": "stdout",
     "output_type": "stream",
     "text": [
      "Fiora\n"
     ]
    },
    {
     "data": {
      "text/html": [
       "<img src=\"http://ddragon.leagueoflegends.com/cdn/10.22.1/img/champion/Fiora.png\"/>"
      ],
      "text/plain": [
       "<IPython.core.display.HTML object>"
      ]
     },
     "metadata": {},
     "output_type": "display_data"
    },
    {
     "name": "stdout",
     "output_type": "stream",
     "text": [
      "Win: False\n",
      "Lane: TOP\n",
      "1055\n",
      "Doran's Blade\n"
     ]
    },
    {
     "data": {
      "text/html": [
       "<img src=\"http://ddragon.leagueoflegends.com/cdn/10.22.1/img/item/1055.png\"/>"
      ],
      "text/plain": [
       "<IPython.core.display.HTML object>"
      ]
     },
     "metadata": {},
     "output_type": "display_data"
    },
    {
     "name": "stdout",
     "output_type": "stream",
     "text": [
      "3074\n",
      "Ravenous Hydra\n"
     ]
    },
    {
     "data": {
      "text/html": [
       "<img src=\"http://ddragon.leagueoflegends.com/cdn/10.22.1/img/item/3074.png\"/>"
      ],
      "text/plain": [
       "<IPython.core.display.HTML object>"
      ]
     },
     "metadata": {},
     "output_type": "display_data"
    },
    {
     "name": "stdout",
     "output_type": "stream",
     "text": [
      "3052\n",
      "Jaurim's Fist\n"
     ]
    },
    {
     "data": {
      "text/html": [
       "<img src=\"http://ddragon.leagueoflegends.com/cdn/10.22.1/img/item/3052.png\"/>"
      ],
      "text/plain": [
       "<IPython.core.display.HTML object>"
      ]
     },
     "metadata": {},
     "output_type": "display_data"
    },
    {
     "name": "stdout",
     "output_type": "stream",
     "text": [
      "3078\n",
      "Trinity Force\n"
     ]
    },
    {
     "data": {
      "text/html": [
       "<img src=\"http://ddragon.leagueoflegends.com/cdn/10.22.1/img/item/3078.png\"/>"
      ],
      "text/plain": [
       "<IPython.core.display.HTML object>"
      ]
     },
     "metadata": {},
     "output_type": "display_data"
    },
    {
     "name": "stdout",
     "output_type": "stream",
     "text": [
      "2422\n",
      "Slightly Magical Boots\n"
     ]
    },
    {
     "data": {
      "text/html": [
       "<img src=\"http://ddragon.leagueoflegends.com/cdn/10.22.1/img/item/2422.png\"/>"
      ],
      "text/plain": [
       "<IPython.core.display.HTML object>"
      ]
     },
     "metadata": {},
     "output_type": "display_data"
    },
    {
     "name": "stdout",
     "output_type": "stream",
     "text": [
      "1028\n",
      "Ruby Crystal\n"
     ]
    },
    {
     "data": {
      "text/html": [
       "<img src=\"http://ddragon.leagueoflegends.com/cdn/10.22.1/img/item/1028.png\"/>"
      ],
      "text/plain": [
       "<IPython.core.display.HTML object>"
      ]
     },
     "metadata": {},
     "output_type": "display_data"
    },
    {
     "name": "stdout",
     "output_type": "stream",
     "text": [
      "3340\n",
      "Warding Totem (Trinket)\n"
     ]
    },
    {
     "data": {
      "text/html": [
       "<img src=\"http://ddragon.leagueoflegends.com/cdn/10.22.1/img/item/3340.png\"/>"
      ],
      "text/plain": [
       "<IPython.core.display.HTML object>"
      ]
     },
     "metadata": {},
     "output_type": "display_data"
    },
    {
     "name": "stdout",
     "output_type": "stream",
     "text": [
      "Camille\n"
     ]
    },
    {
     "data": {
      "text/html": [
       "<img src=\"http://ddragon.leagueoflegends.com/cdn/10.22.1/img/champion/Camille.png\"/>"
      ],
      "text/plain": [
       "<IPython.core.display.HTML object>"
      ]
     },
     "metadata": {},
     "output_type": "display_data"
    },
    {
     "name": "stdout",
     "output_type": "stream",
     "text": [
      "Win: True\n",
      "Lane: TOP\n",
      "3053\n",
      "Sterak's Gage\n"
     ]
    },
    {
     "data": {
      "text/html": [
       "<img src=\"http://ddragon.leagueoflegends.com/cdn/10.22.1/img/item/3053.png\"/>"
      ],
      "text/plain": [
       "<IPython.core.display.HTML object>"
      ]
     },
     "metadata": {},
     "output_type": "display_data"
    },
    {
     "name": "stdout",
     "output_type": "stream",
     "text": [
      "3074\n",
      "Ravenous Hydra\n"
     ]
    },
    {
     "data": {
      "text/html": [
       "<img src=\"http://ddragon.leagueoflegends.com/cdn/10.22.1/img/item/3074.png\"/>"
      ],
      "text/plain": [
       "<IPython.core.display.HTML object>"
      ]
     },
     "metadata": {},
     "output_type": "display_data"
    },
    {
     "name": "stdout",
     "output_type": "stream",
     "text": [
      "3026\n",
      "Guardian Angel\n"
     ]
    },
    {
     "data": {
      "text/html": [
       "<img src=\"http://ddragon.leagueoflegends.com/cdn/10.22.1/img/item/3026.png\"/>"
      ],
      "text/plain": [
       "<IPython.core.display.HTML object>"
      ]
     },
     "metadata": {},
     "output_type": "display_data"
    },
    {
     "name": "stdout",
     "output_type": "stream",
     "text": [
      "3047\n",
      "Ninja Tabi\n"
     ]
    },
    {
     "data": {
      "text/html": [
       "<img src=\"http://ddragon.leagueoflegends.com/cdn/10.22.1/img/item/3047.png\"/>"
      ],
      "text/plain": [
       "<IPython.core.display.HTML object>"
      ]
     },
     "metadata": {},
     "output_type": "display_data"
    },
    {
     "name": "stdout",
     "output_type": "stream",
     "text": [
      "3078\n",
      "Trinity Force\n"
     ]
    },
    {
     "data": {
      "text/html": [
       "<img src=\"http://ddragon.leagueoflegends.com/cdn/10.22.1/img/item/3078.png\"/>"
      ],
      "text/plain": [
       "<IPython.core.display.HTML object>"
      ]
     },
     "metadata": {},
     "output_type": "display_data"
    },
    {
     "name": "stdout",
     "output_type": "stream",
     "text": [
      "3340\n",
      "Warding Totem (Trinket)\n"
     ]
    },
    {
     "data": {
      "text/html": [
       "<img src=\"http://ddragon.leagueoflegends.com/cdn/10.22.1/img/item/3340.png\"/>"
      ],
      "text/plain": [
       "<IPython.core.display.HTML object>"
      ]
     },
     "metadata": {},
     "output_type": "display_data"
    },
    {
     "name": "stdout",
     "output_type": "stream",
     "text": [
      "Camille\n"
     ]
    },
    {
     "data": {
      "text/html": [
       "<img src=\"http://ddragon.leagueoflegends.com/cdn/10.22.1/img/champion/Camille.png\"/>"
      ],
      "text/plain": [
       "<IPython.core.display.HTML object>"
      ]
     },
     "metadata": {},
     "output_type": "display_data"
    },
    {
     "name": "stdout",
     "output_type": "stream",
     "text": [
      "Win: True\n",
      "Lane: TOP\n",
      "3074\n",
      "Ravenous Hydra\n"
     ]
    },
    {
     "data": {
      "text/html": [
       "<img src=\"http://ddragon.leagueoflegends.com/cdn/10.22.1/img/item/3074.png\"/>"
      ],
      "text/plain": [
       "<IPython.core.display.HTML object>"
      ]
     },
     "metadata": {},
     "output_type": "display_data"
    },
    {
     "name": "stdout",
     "output_type": "stream",
     "text": [
      "3026\n",
      "Guardian Angel\n"
     ]
    },
    {
     "data": {
      "text/html": [
       "<img src=\"http://ddragon.leagueoflegends.com/cdn/10.22.1/img/item/3026.png\"/>"
      ],
      "text/plain": [
       "<IPython.core.display.HTML object>"
      ]
     },
     "metadata": {},
     "output_type": "display_data"
    },
    {
     "name": "stdout",
     "output_type": "stream",
     "text": [
      "3078\n",
      "Trinity Force\n"
     ]
    },
    {
     "data": {
      "text/html": [
       "<img src=\"http://ddragon.leagueoflegends.com/cdn/10.22.1/img/item/3078.png\"/>"
      ],
      "text/plain": [
       "<IPython.core.display.HTML object>"
      ]
     },
     "metadata": {},
     "output_type": "display_data"
    },
    {
     "name": "stdout",
     "output_type": "stream",
     "text": [
      "1028\n",
      "Ruby Crystal\n"
     ]
    },
    {
     "data": {
      "text/html": [
       "<img src=\"http://ddragon.leagueoflegends.com/cdn/10.22.1/img/item/1028.png\"/>"
      ],
      "text/plain": [
       "<IPython.core.display.HTML object>"
      ]
     },
     "metadata": {},
     "output_type": "display_data"
    },
    {
     "name": "stdout",
     "output_type": "stream",
     "text": [
      "3047\n",
      "Ninja Tabi\n"
     ]
    },
    {
     "data": {
      "text/html": [
       "<img src=\"http://ddragon.leagueoflegends.com/cdn/10.22.1/img/item/3047.png\"/>"
      ],
      "text/plain": [
       "<IPython.core.display.HTML object>"
      ]
     },
     "metadata": {},
     "output_type": "display_data"
    },
    {
     "name": "stdout",
     "output_type": "stream",
     "text": [
      "3340\n",
      "Warding Totem (Trinket)\n"
     ]
    },
    {
     "data": {
      "text/html": [
       "<img src=\"http://ddragon.leagueoflegends.com/cdn/10.22.1/img/item/3340.png\"/>"
      ],
      "text/plain": [
       "<IPython.core.display.HTML object>"
      ]
     },
     "metadata": {},
     "output_type": "display_data"
    },
    {
     "name": "stdout",
     "output_type": "stream",
     "text": [
      "Fiora\n"
     ]
    },
    {
     "data": {
      "text/html": [
       "<img src=\"http://ddragon.leagueoflegends.com/cdn/10.22.1/img/champion/Fiora.png\"/>"
      ],
      "text/plain": [
       "<IPython.core.display.HTML object>"
      ]
     },
     "metadata": {},
     "output_type": "display_data"
    },
    {
     "name": "stdout",
     "output_type": "stream",
     "text": [
      "Win: False\n",
      "Lane: TOP\n",
      "3074\n",
      "Ravenous Hydra\n"
     ]
    },
    {
     "data": {
      "text/html": [
       "<img src=\"http://ddragon.leagueoflegends.com/cdn/10.22.1/img/item/3074.png\"/>"
      ],
      "text/plain": [
       "<IPython.core.display.HTML object>"
      ]
     },
     "metadata": {},
     "output_type": "display_data"
    },
    {
     "name": "stdout",
     "output_type": "stream",
     "text": [
      "3123\n",
      "Executioner's Calling\n"
     ]
    },
    {
     "data": {
      "text/html": [
       "<img src=\"http://ddragon.leagueoflegends.com/cdn/10.22.1/img/item/3123.png\"/>"
      ],
      "text/plain": [
       "<IPython.core.display.HTML object>"
      ]
     },
     "metadata": {},
     "output_type": "display_data"
    },
    {
     "name": "stdout",
     "output_type": "stream",
     "text": [
      "3078\n",
      "Trinity Force\n"
     ]
    },
    {
     "data": {
      "text/html": [
       "<img src=\"http://ddragon.leagueoflegends.com/cdn/10.22.1/img/item/3078.png\"/>"
      ],
      "text/plain": [
       "<IPython.core.display.HTML object>"
      ]
     },
     "metadata": {},
     "output_type": "display_data"
    },
    {
     "name": "stdout",
     "output_type": "stream",
     "text": [
      "3053\n",
      "Sterak's Gage\n"
     ]
    },
    {
     "data": {
      "text/html": [
       "<img src=\"http://ddragon.leagueoflegends.com/cdn/10.22.1/img/item/3053.png\"/>"
      ],
      "text/plain": [
       "<IPython.core.display.HTML object>"
      ]
     },
     "metadata": {},
     "output_type": "display_data"
    },
    {
     "name": "stdout",
     "output_type": "stream",
     "text": [
      "3047\n",
      "Ninja Tabi\n"
     ]
    },
    {
     "data": {
      "text/html": [
       "<img src=\"http://ddragon.leagueoflegends.com/cdn/10.22.1/img/item/3047.png\"/>"
      ],
      "text/plain": [
       "<IPython.core.display.HTML object>"
      ]
     },
     "metadata": {},
     "output_type": "display_data"
    },
    {
     "name": "stdout",
     "output_type": "stream",
     "text": [
      "1038\n",
      "B. F. Sword\n"
     ]
    },
    {
     "data": {
      "text/html": [
       "<img src=\"http://ddragon.leagueoflegends.com/cdn/10.22.1/img/item/1038.png\"/>"
      ],
      "text/plain": [
       "<IPython.core.display.HTML object>"
      ]
     },
     "metadata": {},
     "output_type": "display_data"
    },
    {
     "name": "stdout",
     "output_type": "stream",
     "text": [
      "3364\n",
      "Oracle Lens\n"
     ]
    },
    {
     "data": {
      "text/html": [
       "<img src=\"http://ddragon.leagueoflegends.com/cdn/10.22.1/img/item/3364.png\"/>"
      ],
      "text/plain": [
       "<IPython.core.display.HTML object>"
      ]
     },
     "metadata": {},
     "output_type": "display_data"
    },
    {
     "name": "stdout",
     "output_type": "stream",
     "text": [
      "Camille\n"
     ]
    },
    {
     "data": {
      "text/html": [
       "<img src=\"http://ddragon.leagueoflegends.com/cdn/10.22.1/img/champion/Camille.png\"/>"
      ],
      "text/plain": [
       "<IPython.core.display.HTML object>"
      ]
     },
     "metadata": {},
     "output_type": "display_data"
    },
    {
     "name": "stdout",
     "output_type": "stream",
     "text": [
      "Win: True\n",
      "Lane: TOP\n",
      "3026\n",
      "Guardian Angel\n"
     ]
    },
    {
     "data": {
      "text/html": [
       "<img src=\"http://ddragon.leagueoflegends.com/cdn/10.22.1/img/item/3026.png\"/>"
      ],
      "text/plain": [
       "<IPython.core.display.HTML object>"
      ]
     },
     "metadata": {},
     "output_type": "display_data"
    },
    {
     "name": "stdout",
     "output_type": "stream",
     "text": [
      "3074\n",
      "Ravenous Hydra\n"
     ]
    },
    {
     "data": {
      "text/html": [
       "<img src=\"http://ddragon.leagueoflegends.com/cdn/10.22.1/img/item/3074.png\"/>"
      ],
      "text/plain": [
       "<IPython.core.display.HTML object>"
      ]
     },
     "metadata": {},
     "output_type": "display_data"
    },
    {
     "name": "stdout",
     "output_type": "stream",
     "text": [
      "3076\n",
      "Bramble Vest\n"
     ]
    },
    {
     "data": {
      "text/html": [
       "<img src=\"http://ddragon.leagueoflegends.com/cdn/10.22.1/img/item/3076.png\"/>"
      ],
      "text/plain": [
       "<IPython.core.display.HTML object>"
      ]
     },
     "metadata": {},
     "output_type": "display_data"
    },
    {
     "name": "stdout",
     "output_type": "stream",
     "text": [
      "3047\n",
      "Ninja Tabi\n"
     ]
    },
    {
     "data": {
      "text/html": [
       "<img src=\"http://ddragon.leagueoflegends.com/cdn/10.22.1/img/item/3047.png\"/>"
      ],
      "text/plain": [
       "<IPython.core.display.HTML object>"
      ]
     },
     "metadata": {},
     "output_type": "display_data"
    },
    {
     "name": "stdout",
     "output_type": "stream",
     "text": [
      "3078\n",
      "Trinity Force\n"
     ]
    },
    {
     "data": {
      "text/html": [
       "<img src=\"http://ddragon.leagueoflegends.com/cdn/10.22.1/img/item/3078.png\"/>"
      ],
      "text/plain": [
       "<IPython.core.display.HTML object>"
      ]
     },
     "metadata": {},
     "output_type": "display_data"
    },
    {
     "name": "stdout",
     "output_type": "stream",
     "text": [
      "3053\n",
      "Sterak's Gage\n"
     ]
    },
    {
     "data": {
      "text/html": [
       "<img src=\"http://ddragon.leagueoflegends.com/cdn/10.22.1/img/item/3053.png\"/>"
      ],
      "text/plain": [
       "<IPython.core.display.HTML object>"
      ]
     },
     "metadata": {},
     "output_type": "display_data"
    },
    {
     "name": "stdout",
     "output_type": "stream",
     "text": [
      "3364\n",
      "Oracle Lens\n"
     ]
    },
    {
     "data": {
      "text/html": [
       "<img src=\"http://ddragon.leagueoflegends.com/cdn/10.22.1/img/item/3364.png\"/>"
      ],
      "text/plain": [
       "<IPython.core.display.HTML object>"
      ]
     },
     "metadata": {},
     "output_type": "display_data"
    },
    {
     "name": "stdout",
     "output_type": "stream",
     "text": [
      "Fiora\n"
     ]
    },
    {
     "data": {
      "text/html": [
       "<img src=\"http://ddragon.leagueoflegends.com/cdn/10.22.1/img/champion/Fiora.png\"/>"
      ],
      "text/plain": [
       "<IPython.core.display.HTML object>"
      ]
     },
     "metadata": {},
     "output_type": "display_data"
    },
    {
     "name": "stdout",
     "output_type": "stream",
     "text": [
      "Win: False\n",
      "Lane: TOP\n",
      "3812\n",
      "Death's Dance\n"
     ]
    },
    {
     "data": {
      "text/html": [
       "<img src=\"http://ddragon.leagueoflegends.com/cdn/10.22.1/img/item/3812.png\"/>"
      ],
      "text/plain": [
       "<IPython.core.display.HTML object>"
      ]
     },
     "metadata": {},
     "output_type": "display_data"
    },
    {
     "name": "stdout",
     "output_type": "stream",
     "text": [
      "3078\n",
      "Trinity Force\n"
     ]
    },
    {
     "data": {
      "text/html": [
       "<img src=\"http://ddragon.leagueoflegends.com/cdn/10.22.1/img/item/3078.png\"/>"
      ],
      "text/plain": [
       "<IPython.core.display.HTML object>"
      ]
     },
     "metadata": {},
     "output_type": "display_data"
    },
    {
     "name": "stdout",
     "output_type": "stream",
     "text": [
      "3074\n",
      "Ravenous Hydra\n"
     ]
    },
    {
     "data": {
      "text/html": [
       "<img src=\"http://ddragon.leagueoflegends.com/cdn/10.22.1/img/item/3074.png\"/>"
      ],
      "text/plain": [
       "<IPython.core.display.HTML object>"
      ]
     },
     "metadata": {},
     "output_type": "display_data"
    },
    {
     "name": "stdout",
     "output_type": "stream",
     "text": [
      "3033\n",
      "Mortal Reminder\n"
     ]
    },
    {
     "data": {
      "text/html": [
       "<img src=\"http://ddragon.leagueoflegends.com/cdn/10.22.1/img/item/3033.png\"/>"
      ],
      "text/plain": [
       "<IPython.core.display.HTML object>"
      ]
     },
     "metadata": {},
     "output_type": "display_data"
    },
    {
     "name": "stdout",
     "output_type": "stream",
     "text": [
      "3053\n",
      "Sterak's Gage\n"
     ]
    },
    {
     "data": {
      "text/html": [
       "<img src=\"http://ddragon.leagueoflegends.com/cdn/10.22.1/img/item/3053.png\"/>"
      ],
      "text/plain": [
       "<IPython.core.display.HTML object>"
      ]
     },
     "metadata": {},
     "output_type": "display_data"
    },
    {
     "name": "stdout",
     "output_type": "stream",
     "text": [
      "3047\n",
      "Ninja Tabi\n"
     ]
    },
    {
     "data": {
      "text/html": [
       "<img src=\"http://ddragon.leagueoflegends.com/cdn/10.22.1/img/item/3047.png\"/>"
      ],
      "text/plain": [
       "<IPython.core.display.HTML object>"
      ]
     },
     "metadata": {},
     "output_type": "display_data"
    },
    {
     "name": "stdout",
     "output_type": "stream",
     "text": [
      "3340\n",
      "Warding Totem (Trinket)\n"
     ]
    },
    {
     "data": {
      "text/html": [
       "<img src=\"http://ddragon.leagueoflegends.com/cdn/10.22.1/img/item/3340.png\"/>"
      ],
      "text/plain": [
       "<IPython.core.display.HTML object>"
      ]
     },
     "metadata": {},
     "output_type": "display_data"
    }
   ],
   "source": [
    "current_champion = \"Fiora\"\n",
    "opponent_champion = \"Camille\"\n",
    "f = filter_matching_lanes(convert_champion_name_to_id(current_champion), convert_champion_name_to_id(opponent_champion), \"TOP\", match_df)\n",
    "print(f.count())\n",
    "for p in f:\n",
    "    p = map(filter_participant, p)\n",
    "    p = list(p)\n",
    "    p = filter(lambda x: x['championId'] == convert_champion_name_to_id(current_champion) or x['championId'] == convert_champion_name_to_id(opponent_champion), p)\n",
    "    p = list(p)\n",
    "    list(map(display_participant, p))"
   ]
  },
  {
   "cell_type": "code",
   "execution_count": null,
   "metadata": {},
   "outputs": [],
   "source": []
  }
 ],
 "metadata": {
  "kernelspec": {
   "display_name": "Python 3",
   "language": "python",
   "name": "python3"
  },
  "language_info": {
   "codemirror_mode": {
    "name": "ipython",
    "version": 3
   },
   "file_extension": ".py",
   "mimetype": "text/x-python",
   "name": "python",
   "nbconvert_exporter": "python",
   "pygments_lexer": "ipython3",
   "version": "3.7.7"
  }
 },
 "nbformat": 4,
 "nbformat_minor": 4
}
